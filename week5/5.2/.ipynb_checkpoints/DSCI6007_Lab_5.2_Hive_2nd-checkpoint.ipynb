{
 "cells": [
  {
   "cell_type": "markdown",
   "metadata": {},
   "source": [
    "##Individual Assignment\n",
    "\n",
    "###Objectives:\n",
    "\n",
    "- Contrasting different file formats\n",
    "- Understanding Partitioning\n",
    "- Understanding Bucketing\n",
    "- Understanding Skewed tables.\n",
    "\n",
    "###Lab:\n",
    "\n",
    "####File Formats\n",
    "\n",
    "This lab assumes you have hive and its dependancies installed and running.   "
   ]
  },
  {
   "cell_type": "markdown",
   "metadata": {},
   "source": [
    "####I will only be uploading movies.csv into the tabels, for a total of 3 tables. "
   ]
  },
  {
   "cell_type": "markdown",
   "metadata": {},
   "source": [
    "- Step1: Download 100m movies data from\n",
    "  <http://files.grouplens.org/datasets/movielens/ml-latest-small.zip>\n",
    "  "
   ]
  },
  {
   "cell_type": "markdown",
   "metadata": {},
   "source": [
    "    localhost $ wget http://files.grouplens.org/datasets/movielens/ml-latest-small.zip"
   ]
  },
  {
   "cell_type": "markdown",
   "metadata": {},
   "source": [
    "- Step2: Load data into HDFS"
   ]
  },
  {
   "cell_type": "markdown",
   "metadata": {},
   "source": [
    "    hadoop fs -put ~/ml-latest-small"
   ]
  },
  {
   "cell_type": "markdown",
   "metadata": {},
   "source": [
    "- Create `<tablename>_txt` to load data as text file.\n",
    "- Create `<tablename>_rc` to load data in rc format.\n",
    "- Create `<tablename>_orc` to load data in orc format."
   ]
  },
  {
   "cell_type": "markdown",
   "metadata": {},
   "source": [
    "##Note\n",
    "    ORC AND RC tables have not had data loaded into them\n",
    "    1. I need to change the file format from .csv to .orc (or whatever)\n",
    "    2. I need to copy data from movies_text table into the other two tables\n",
    "        - This step is much eaiser and is a common use for Hive !!"
   ]
  },
  {
   "cell_type": "markdown",
   "metadata": {},
   "source": [
    "###RC file format in table declaration is not recognized !!!!\n"
   ]
  },
  {
   "cell_type": "markdown",
   "metadata": {},
   "source": [
    "    --Copy to ORC table\n",
    "    INSERT INTO TABLE movies_orc SELECT * FROM movies_text;"
   ]
  },
  {
   "cell_type": "markdown",
   "metadata": {},
   "source": [
    "    -- Drop table if it exists.\n",
    "    DROP TABLE IF EXISTS  movies_orc;\n",
    "\n",
    "    -- Create external table with RC format.\n",
    "    CREATE TABLE movies_orc(\n",
    "          movieId INT,\n",
    "          title string,\n",
    "          genre string\n",
    "    )\n",
    "    ROW FORMAT DELIMITED \n",
    "    FIELDS TERMINATED BY ','\n",
    "    STORED AS ORC \n",
    "    TBLPROPERTIES(\"skip.header.line.count\"=\"1\", \"orc.compress\"=\"ZLIB\");"
   ]
  },
  {
   "cell_type": "markdown",
   "metadata": {},
   "source": [
    "    -- Drop table if it exists.\n",
    "    DROP TABLE IF EXISTS  movies_rc;\n",
    "\n",
    "    -- Create external table with RC format.\n",
    "    CREATE TABLE movies_rc(\n",
    "          movieId INT,\n",
    "          title string,\n",
    "          genre string\n",
    "    )\n",
    "    ROW FORMAT DELIMITED \n",
    "    FIELDS TERMINATED BY ','\n",
    "    STORED AS RC\n",
    "    TBLPROPERTIES(\"skip.header.line.count\"=\"1\");\n",
    "    "
   ]
  },
  {
   "cell_type": "markdown",
   "metadata": {},
   "source": [
    "    -- Drop table if it exists.\n",
    "    DROP TABLE IF EXISTS  movies_txt;\n",
    "\n",
    "    -- Create external table with TEXT format.\n",
    "    CREATE  TABLE movies_text(\n",
    "          movieId INT,\n",
    "          title string,\n",
    "          genre string\n",
    "    )\n",
    "    ROW FORMAT DELIMITED \n",
    "    FIELDS TERMINATED BY ','\n",
    "    STORED AS TEXTFILE\n",
    "    TBLPROPERTIES(\"skip.header.line.count\"=\"1\");\n",
    "    \n",
    "    -- Load data to Hive\n",
    "    LOAD DATA\n",
    "    INPATH '/user/root/ml-latest-small/movies.csv'\n",
    "    OVERWRITE\n",
    "    INTO TABLE movies_text;"
   ]
  },
  {
   "cell_type": "markdown",
   "metadata": {},
   "source": [
    "- Step3: Load the data into above tables from hdfs and note the\n",
    "  timings. Which table took more time to load?\n",
    "  "
   ]
  },
  {
   "cell_type": "markdown",
   "metadata": {},
   "source": [
    "    Text file load time: 11.192 sec\n",
    "    Transfer data from text table to orc table: 61.623 seconds"
   ]
  },
  {
   "cell_type": "markdown",
   "metadata": {},
   "source": [
    "- Step4: How many movies with the tag `Action` are present in the\n",
    "  list? Save a list of the titles and IDs of such movie to the HDFS.\n",
    "  Contrast the timings. *Hint : Case sensitive?*"
   ]
  },
  {
   "cell_type": "markdown",
   "metadata": {},
   "source": [
    "####Partitioning\n",
    "\n",
    "- Step1: Review the data in `data/state-pops.csv`  "
   ]
  },
  {
   "cell_type": "markdown",
   "metadata": {},
   "source": [
    "- Step2: Load it into HDFS.  "
   ]
  },
  {
   "cell_type": "markdown",
   "metadata": {},
   "source": [
    "    hadoop fs -mkdir /users/root/states"
   ]
  },
  {
   "cell_type": "markdown",
   "metadata": {},
   "source": [
    "- Step3: Create table `states` in hive partitioned on `country`.  "
   ]
  },
  {
   "cell_type": "markdown",
   "metadata": {},
   "source": [
    "    -- Create external table.\n",
    "    DROP TABLE IF EXISTS  statePop;\n",
    "    CREATE EXTERNAL TABLE statePop(\n",
    "      country STRING,\n",
    "      state STRING,\n",
    "      pop    INT\n",
    "    )\n",
    "    ROW FORMAT DELIMITED \n",
    "    FIELDS TERMINATED BY ','\n",
    "    STORED AS TEXTFILE\n",
    "    LOCATION '/user/root/state_data'\n",
    "    TBLPROPERTIES(\"skip.header.line.count\"=\"1\");\n",
    "\n",
    "    -- Create partitioned table.\n",
    "    DROP TABLE IF EXISTS  statePop_part;\n",
    "    CREATE TABLE statePop_part(\n",
    "      country STRING,\n",
    "      pop    INT\n",
    "    )\n",
    "    PARTITIONED BY (state STRING)\n",
    "    ROW FORMAT DELIMITED \n",
    "    FIELDS TERMINATED BY ','\n",
    "    STORED AS TEXTFILE;\n",
    "    \n",
    "    -- Insert select into partitioned table.\n",
    "    FROM statePop \n",
    "    INSERT INTO TABLE statePop_part PARTITION(state)\n",
    "    SELECT country,pop,state;\n",
    "    \n",
    "    NOTE: the field that is partitioned on must placed at the end of the SELECT statement\n",
    "          when inserting data into the table"
   ]
  },
  {
   "cell_type": "markdown",
   "metadata": {},
   "source": [
    "    select * from statePop limit 10;\n",
    "    \n",
    "    OK\n",
    "    \n",
    "    Canada\tQuebec\t7903001\n",
    "    Canada\tBritish Columbia\t4400057\n",
    "    Canada\tAlberta\t3645257\n",
    "    Canada\tManitoba\t1208268\n",
    "    Canada\tSaskatchewan\t1033381\n",
    "    Canada\tNova Scotia\t921727\n",
    "    Canada\tNew Brunswick\t751171\n",
    "    Canada\tNewfoundland and Labrador\t514536\n",
    "    Canada\tPrince Edward Island\t140204\n",
    "    US\tCalifornia\t38332521\n",
    "    \n",
    "    Time taken: 2.307 seconds, Fetched: 10 row(s)"
   ]
  },
  {
   "cell_type": "markdown",
   "metadata": {},
   "source": [
    "- Step4: Query the description of the table. "
   ]
  },
  {
   "cell_type": "markdown",
   "metadata": {},
   "source": [
    "    hive> DESCRIBE statePop;\n",
    "    OK\n",
    "    country             \tstring\n",
    "    state               \tstring\n",
    "    pop                 \tint\n",
    "    Time taken: 1.111 seconds, Fetched: 3 row(s)"
   ]
  },
  {
   "cell_type": "markdown",
   "metadata": {},
   "source": [
    "- Step5: Load states with data from HDFS.  "
   ]
  },
  {
   "cell_type": "markdown",
   "metadata": {},
   "source": [
    "#####I don't understand Step 5"
   ]
  },
  {
   "cell_type": "markdown",
   "metadata": {},
   "source": [
    "- Step6: Check the directory structure in HDFS."
   ]
  },
  {
   "cell_type": "markdown",
   "metadata": {},
   "source": [
    "    root@sandbox ~]# hadoop fs -ls  /apps/hive/warehouse/statepop_part\n",
    "    Found 60 items\n",
    "    drwxrwxrwx   - root hdfs          0 2015-09-27 01:07 /apps/hive/warehouse/statepop_part/state=Alabama\n",
    "    drwxrwxrwx   - root hdfs          0 2015-09-27 01:07 /apps/hive/warehouse/statepop_part/state=Alaska\n",
    "    drwxrwxrwx   - root hdfs          0 2015-09-27 01:07 /apps/hive/warehouse/statepop_part/state=Alberta\n",
    "    drwxrwxrwx   - root hdfs          0 2015-09-27 01:07 /apps/hive/warehouse/statepop_part/state=Arizona\n",
    "    drwxrwxrwx   - root hdfs          0 2015-09-27 01:07 /apps/hive/warehouse/statepop_part/state=Arkansas\n",
    "    drwxrwxrwx   - root hdfs          0 2015-09-27 01:07 /apps/hive/warehouse/statepop_part/state=British Columbia\n",
    "    drwxrwxrwx   - root hdfs          0 2015-09-27 01:07 /apps/hive/warehouse/statepop_part/state=California\n",
    "    drwxrwxrwx   - root hdfs          0 2015-09-27 01:07 /apps/hive/warehouse/statepop_part/state=Colorado\n",
    "    drwxrwxrwx   - root hdfs          0 2015-09-27 01:07 /apps/hive/warehouse/statepop_part/state=Connecticut\n",
    "    drwxrwxrwx   - root hdfs          0 2015-09-27 01:07 /apps/hive/warehouse/statepop_part/state=Delaware\n",
    "    drwxrwxrwx   - root hdfs          0 2015-09-27 01:07 /apps/hive/warehouse/statepop_part/state=District of Columbia\n",
    "    drwxrwxrwx   - root hdfs          0 2015-09-27 01:07 /apps/hive/warehouse/statepop_part/state=Florida\n",
    "    drwxrwxrwx   - root hdfs          0 2015-09-27 01:07 /apps/hive/warehouse/statepop_part/state=Georgia\n",
    "    drwxrwxrwx   - root hdfs          0 2015-09-27 01:07 /apps/hive/warehouse/statepop_part/state=Hawaii\n",
    "    drwxrwxrwx   - root hdfs          0 2015-09-27 01:07 /apps/hive/warehouse/statepop_part/state=Idaho\n",
    "    drwxrwxrwx   - root hdfs          0 2015-09-27 01:07 /apps/hive/warehouse/statepop_part/state=Illinois\n",
    "    drwxrwxrwx   - root hdfs          0 2015-09-27 01:07 /apps/hive/warehouse/statepop_part/state=Indiana\n",
    "    drwxrwxrwx   - root hdfs          0 2015-09-27 01:07 /apps/hive/warehouse/statepop_part/state=Iowa\n",
    "    drwxrwxrwx   - root hdfs          0 2015-09-27 01:07 /apps/hive/warehouse/statepop_part/state=Kansas\n",
    "    drwxrwxrwx   - root hdfs          0 2015-09-27 01:07 /apps/hive/warehouse/statepop_part/state=Kentucky\n",
    "    drwxrwxrwx   - root hdfs          0 2015-09-27 01:07 /apps/hive/warehouse/statepop_part/state=Louisiana\n",
    "    drwxrwxrwx   - root hdfs          0 2015-09-27 01:07 /apps/hive/warehouse/statepop_part/state=Maine\n",
    "    drwxrwxrwx   - root hdfs          0 2015-09-27 01:07 /apps/hive/warehouse/statepop_part/state=Manitoba\n",
    "    drwxrwxrwx   - root hdfs          0 2015-09-27 01:07 /apps/hive/warehouse/statepop_part/state=Maryland\n",
    "    drwxrwxrwx   - root hdfs          0 2015-09-27 01:07 /apps/hive/warehouse/statepop_part/state=Massachusetts\n",
    "    drwxrwxrwx   - root hdfs          0 2015-09-27 01:07 /apps/hive/warehouse/statepop_part/state=Michigan\n",
    "    drwxrwxrwx   - root hdfs          0 2015-09-27 01:07 /apps/hive/warehouse/statepop_part/state=Minnesota\n",
    "    drwxrwxrwx   - root hdfs          0 2015-09-27 01:07 /apps/hive/warehouse/statepop_part/state=Mississippi\n",
    "    drwxrwxrwx   - root hdfs          0 2015-09-27 01:07 /apps/hive/warehouse/statepop_part/state=Missouri\n",
    "    drwxrwxrwx   - root hdfs          0 2015-09-27 01:07 /apps/hive/warehouse/statepop_part/state=Montana\n",
    "    drwxrwxrwx   - root hdfs          0 2015-09-27 01:07 /apps/hive/warehouse/statepop_part/state=Nebraska\n",
    "    drwxrwxrwx   - root hdfs          0 2015-09-27 01:07 /apps/hive/warehouse/statepop_part/state=Nevada\n",
    "    drwxrwxrwx   - root hdfs          0 2015-09-27 01:07 /apps/hive/warehouse/statepop_part/state=New Brunswick\n",
    "    drwxrwxrwx   - root hdfs          0 2015-09-27 01:07 /apps/hive/warehouse/statepop_part/state=New Hampshire\n",
    "    drwxrwxrwx   - root hdfs          0 2015-09-27 01:07 /apps/hive/warehouse/statepop_part/state=New Jersey\n",
    "    drwxrwxrwx   - root hdfs          0 2015-09-27 01:07 /apps/hive/warehouse/statepop_part/state=New Mexico\n",
    "    drwxrwxrwx   - root hdfs          0 2015-09-27 01:07 /apps/hive/warehouse/statepop_part/state=New York\n",
    "    drwxrwxrwx   - root hdfs          0 2015-09-27 01:07 /apps/hive/warehouse/statepop_part/state=Newfoundland and Labrador\n",
    "    drwxrwxrwx   - root hdfs          0 2015-09-27 01:07 /apps/hive/warehouse/statepop_part/state=North Carolina\n",
    "    drwxrwxrwx   - root hdfs          0 2015-09-27 01:07 /apps/hive/warehouse/statepop_part/state=North Dakota\n",
    "    drwxrwxrwx   - root hdfs          0 2015-09-27 01:07 /apps/hive/warehouse/statepop_part/state=Nova Scotia\n",
    "    drwxrwxrwx   - root hdfs          0 2015-09-27 01:07 /apps/hive/warehouse/statepop_part/state=Ohio\n",
    "    drwxrwxrwx   - root hdfs          0 2015-09-27 01:07 /apps/hive/warehouse/statepop_part/state=Oklahoma\n",
    "    drwxrwxrwx   - root hdfs          0 2015-09-27 01:07 /apps/hive/warehouse/statepop_part/state=Oregon\n",
    "    drwxrwxrwx   - root hdfs          0 2015-09-27 01:07 /apps/hive/warehouse/statepop_part/state=Pennsylvania\n",
    "    drwxrwxrwx   - root hdfs          0 2015-09-27 01:07 /apps/hive/warehouse/statepop_part/state=Prince Edward Island\n",
    "    drwxrwxrwx   - root hdfs          0 2015-09-27 01:07 /apps/hive/warehouse/statepop_part/state=Quebec\n",
    "    drwxrwxrwx   - root hdfs          0 2015-09-27 01:07 /apps/hive/warehouse/statepop_part/state=Rhode Island\n",
    "    drwxrwxrwx   - root hdfs          0 2015-09-27 01:07 /apps/hive/warehouse/statepop_part/state=Saskatchewan\n",
    "    drwxrwxrwx   - root hdfs          0 2015-09-27 01:07 /apps/hive/warehouse/statepop_part/state=South Carolina\n",
    "    drwxrwxrwx   - root hdfs          0 2015-09-27 01:07 /apps/hive/warehouse/statepop_part/state=South Dakota\n",
    "    drwxrwxrwx   - root hdfs          0 2015-09-27 01:07 /apps/hive/warehouse/statepop_part/state=Tennessee\n",
    "    drwxrwxrwx   - root hdfs          0 2015-09-27 01:07 /apps/hive/warehouse/statepop_part/state=Texas\n",
    "    drwxrwxrwx   - root hdfs          0 2015-09-27 01:07 /apps/hive/warehouse/statepop_part/state=Utah\n",
    "    drwxrwxrwx   - root hdfs          0 2015-09-27 01:07 /apps/hive/warehouse/statepop_part/state=Vermont\n",
    "    drwxrwxrwx   - root hdfs          0 2015-09-27 01:07 /apps/hive/warehouse/statepop_part/state=Virginia\n",
    "    drwxrwxrwx   - root hdfs          0 2015-09-27 01:07 /apps/hive/warehouse/statepop_part/state=Washington\n",
    "    drwxrwxrwx   - root hdfs          0 2015-09-27 01:07 /apps/hive/warehouse/statepop_part/state=West Virginia\n",
    "    drwxrwxrwx   - root hdfs          0 2015-09-27 01:07 /apps/hive/warehouse/statepop_part/state=Wisconsin\n",
    "    drwxrwxrwx   - root hdfs          0 2015-09-27 01:07 /apps/hive/warehouse/statepop_part/state=Wyoming"
   ]
  },
  {
   "cell_type": "markdown",
   "metadata": {},
   "source": [
    "- The data for each country should be in a separate folder."
   ]
  },
  {
   "cell_type": "markdown",
   "metadata": {},
   "source": [
    "####Bucketing\n",
    "\n",
    "- Step1: Review data in `movies.csv`."
   ]
  },
  {
   "cell_type": "markdown",
   "metadata": {},
   "source": [
    "- Step2: Create table `movies1` **without** bucketing.  "
   ]
  },
  {
   "cell_type": "markdown",
   "metadata": {},
   "source": [
    "- Step3: Create table `movies2` **with bucketing over movieID (4 buckets)**.  "
   ]
  },
  {
   "cell_type": "markdown",
   "metadata": {},
   "source": [
    "- Step4: Load same data to both tables and notice difference in time.   "
   ]
  },
  {
   "cell_type": "markdown",
   "metadata": {},
   "source": [
    "- Step5: Run `count(*)` command on both tables and notice difference in time.   "
   ]
  },
  {
   "cell_type": "markdown",
   "metadata": {},
   "source": [
    "- Step6: Perform sampling on `movies2`."
   ]
  },
  {
   "cell_type": "code",
   "execution_count": null,
   "metadata": {
    "collapsed": true
   },
   "outputs": [],
   "source": []
  }
 ],
 "metadata": {
  "kernelspec": {
   "display_name": "Python 2",
   "language": "python",
   "name": "python2"
  },
  "language_info": {
   "codemirror_mode": {
    "name": "ipython",
    "version": 2
   },
   "file_extension": ".py",
   "mimetype": "text/x-python",
   "name": "python",
   "nbconvert_exporter": "python",
   "pygments_lexer": "ipython2",
   "version": "2.7.10"
  }
 },
 "nbformat": 4,
 "nbformat_minor": 0
}
