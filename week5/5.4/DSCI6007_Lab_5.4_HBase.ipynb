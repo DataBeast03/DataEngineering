{
 "cells": [
  {
   "cell_type": "markdown",
   "metadata": {},
   "source": [
    "Lab\n",
    "===\n",
    "\n",
    "Step 1: Install HBase\n",
    "---------------------\n",
    "\n",
    "Install HBase on your machine.\n",
    "\n",
    "Bring it up in *standalone* mode.\n",
    "\n",
    "Bring up the HBase shell.\n",
    "\n",
    "Type `puts \"hello world\"` and see that it works.\n",
    "\n",
    "Step 2: Download Data\n",
    "---------------------\n",
    "\n",
    "Download stock data for these companies: AAPL, GOOG, AMZN, MSFT\n",
    "\n",
    "Here is how to get the stock for AAPL, for example:\n",
    "\n",
    "<http://real-chart.finance.yahoo.com/table.csv?s=AAPL&g=d&ignore=.csv>\n",
    "\n",
    "Step 3: Design Row Key\n",
    "----------------------\n",
    "\n",
    "Design a row key schema for storing this data in HBase. \n",
    "\n",
    "Your goal is to calculate the minimum/maximum/average prices for each\n",
    "company over the period covered in the data."
   ]
  },
  {
   "cell_type": "markdown",
   "metadata": {},
   "source": [
    "Row Key: Data, Open, Adj Close\n",
    "\n",
    "    Since we're only interested in min,max, and average, the row key should only return the\n",
    "    relevent values"
   ]
  },
  {
   "cell_type": "markdown",
   "metadata": {},
   "source": [
    "Step 4: Upload Data\n",
    "-------------------\n",
    "\n",
    "Using the lecture notes as a guide create a HBase shell script to\n",
    "upload the CSV data into HBase."
   ]
  },
  {
   "cell_type": "code",
   "execution_count": null,
   "metadata": {
    "collapsed": true
   },
   "outputs": [],
   "source": [
    "    # Create table with column family\n",
    "    create \"stocks\", 'd'\n",
    "    # view list of tables\n",
    "    list\n",
    "    # Import CSV enabled\n",
    "    require 'csv'\n",
    "\n",
    "    #Insert data using loop.\n",
    "    path = '/Users/Alexander/Downloads/GOOG.csv'\n",
    "    CSV.foreach(path) { |date,open,high,low,close,volume,adj_close| \n",
    "      if date.start_with? 'Date' then \n",
    "        next\n",
    "      end\n",
    "      table = 'stocks'\n",
    "      # Company:Month:Year:Day\n",
    "      key = path[-8..-5] + ':' + date[5..6] + ':' + date[0..3] + ':' + date[8..9]\n",
    "      put table, key, 'd:date',date\n",
    "      put table, key, 'd:open',open.to_f\n",
    "      put table, key, 'd:high',high.to_f\n",
    "      put table, key, 'd:low',low.to_f\n",
    "      put table, key, 'd:close',close.to_f\n",
    "      put table, key, 'd:volume',volume.to_i\n",
    "      put table, key, 'd:adj_close',adj_close.to_f\n",
    "    }"
   ]
  },
  {
   "cell_type": "code",
   "execution_count": null,
   "metadata": {
    "collapsed": true
   },
   "outputs": [],
   "source": [
    "    #Insert data using loop.\n",
    "    path = '/Users/Alexander/Downloads/AAPL.csv'\n",
    "    CSV.foreach(path) { |date,open,high,low,close,volume,adj_close| \n",
    "      if date.start_with? 'Date' then \n",
    "        next\n",
    "      end\n",
    "      table = 'stocks'\n",
    "      # Company:Month:Year:Day\n",
    "      key = path[-8..-5] + ':' + date[5..6] + ':' + date[0..3] + ':' + date[8..9]\n",
    "      put table, key, 'd:date',date\n",
    "      put table, key, 'd:open',open.to_f\n",
    "      put table, key, 'd:high',high.to_f\n",
    "      put table, key, 'd:low',low.to_f\n",
    "      put table, key, 'd:close',close.to_f\n",
    "      put table, key, 'd:volume',volume.to_i\n",
    "      put table, key, 'd:adj_close',adj_close.to_f\n",
    "    }"
   ]
  },
  {
   "cell_type": "code",
   "execution_count": null,
   "metadata": {
    "collapsed": true
   },
   "outputs": [],
   "source": [
    "    #Insert data using loop.\n",
    "    path = '/Users/Alexander/Downloads/MSFT.csv'\n",
    "    CSV.foreach(path) { |date,open,high,low,close,volume,adj_close| \n",
    "      if date.start_with? 'Date' then \n",
    "        next\n",
    "      end\n",
    "      table = 'stocks'\n",
    "      # Company:Month:Year:Day\n",
    "      key = path[-8..-5] + ':' + date[5..6] + ':' + date[0..3] + ':' + date[8..9]\n",
    "      put table, key, 'd:date',date\n",
    "      put table, key, 'd:open',open.to_f\n",
    "      put table, key, 'd:high',high.to_f\n",
    "      put table, key, 'd:low',low.to_f\n",
    "      put table, key, 'd:close',close.to_f\n",
    "      put table, key, 'd:volume',volume.to_i\n",
    "      put table, key, 'd:adj_close',adj_close.to_f\n",
    "    }"
   ]
  },
  {
   "cell_type": "code",
   "execution_count": null,
   "metadata": {
    "collapsed": true
   },
   "outputs": [],
   "source": [
    "    #Insert data using loop.\n",
    "    path = '/Users/Alexander/Downloads/AMZN.csv'\n",
    "    CSV.foreach(path) { |date,open,high,low,close,volume,adj_close| \n",
    "      if date.start_with? 'Date' then \n",
    "        next\n",
    "      end\n",
    "      table = 'stocks'\n",
    "      # Company:Month:Year:Day\n",
    "      key = path[-8..-5] + ':' + date[5..6] + ':' + date[0..3] + ':' + date[8..9]\n",
    "      put table, key, 'd:date',date\n",
    "      put table, key, 'd:open',open.to_f\n",
    "      put table, key, 'd:high',high.to_f\n",
    "      put table, key, 'd:low',low.to_f\n",
    "      put table, key, 'd:close',close.to_f\n",
    "      put table, key, 'd:volume',volume.to_i\n",
    "      put table, key, 'd:adj_close',adj_close.to_f\n",
    "    }"
   ]
  },
  {
   "cell_type": "code",
   "execution_count": null,
   "metadata": {
    "collapsed": true
   },
   "outputs": [],
   "source": [
    "        # Create table with column family.\n",
    "        create 'ap', 'd'\n",
    "        list \n",
    "\n",
    "        # Import CSV.\n",
    "        require 'csv'\n",
    "\n",
    "        # Insert date using loop.\n",
    "        path = '/Users/Alexander/Downloads/AAPL.csv'\n",
    "        CSV.foreach(path) { |date,open,high,low,close,vol,adj_close| \n",
    "          if date.start_with? 'D' then \n",
    "            next\n",
    "          end\n",
    "          key = date\n",
    "          put 'ap', key, 'd:op',open.to_f\n",
    "          put 'ap', key, 'd:hi',high.to_f\n",
    "          put 'ap', key, 'd:lo',low.to_f\n",
    "          put 'ap', key, 'd:cl',close.to_f\n",
    "          put 'ap', key, 'd:vol',vol.to_f\n",
    "          put 'ap', key, 'd:adcl',adj_close.to_f\n",
    "        }"
   ]
  },
  {
   "cell_type": "code",
   "execution_count": null,
   "metadata": {
    "collapsed": true
   },
   "outputs": [],
   "source": [
    "        # Create table with column family.\n",
    "        create 'ms', 'd'\n",
    "        list \n",
    "\n",
    "        # Import CSV.\n",
    "        require 'csv'\n",
    "\n",
    "        # Insert date using loop.\n",
    "        path = '/Users/Alexander/Downloads/MSFT.csv'\n",
    "        CSV.foreach(path) { |date,open,high,low,close,vol,adj_close| \n",
    "          if date.start_with? 'D' then \n",
    "            next\n",
    "          end\n",
    "          key = date\n",
    "          put 'ms', key, 'd:op',open.to_f\n",
    "          put 'ms', key, 'd:hi',high.to_f\n",
    "          put 'ms', key, 'd:lo',low.to_f\n",
    "          put 'ms', key, 'd:cl',close.to_f\n",
    "          put 'ms', key, 'd:vol',vol.to_f\n",
    "          put 'ms', key, 'd:acl',adj_close.to_f\n",
    "        }"
   ]
  },
  {
   "cell_type": "code",
   "execution_count": null,
   "metadata": {
    "collapsed": true
   },
   "outputs": [],
   "source": [
    "        # Create table with column family.\n",
    "        create 'amz', 'd'\n",
    "        list \n",
    "\n",
    "        # Import CSV.\n",
    "        require 'csv'\n",
    "\n",
    "        # Insert date using loop.\n",
    "        path = '/Users/Alexander/Downloads/AMZN.csv'\n",
    "        CSV.foreach(path) { |date,open,high,low,close,vol,adj_close| \n",
    "          if date.start_with? 'D' then \n",
    "            next\n",
    "          end\n",
    "          key = date\n",
    "          put 'amz', key, 'd:op',open.to_f\n",
    "          put 'amz', key, 'd:hi',high.to_f\n",
    "          put 'amz', key, 'd:lo',low.to_f\n",
    "          put 'amz', key, 'd:cl',close.to_f\n",
    "          put 'amz', key, 'd:vol',vol.to_f\n",
    "          put 'amz', key, 'd:acl',adj_close.to_f\n",
    "        }"
   ]
  },
  {
   "cell_type": "markdown",
   "metadata": {},
   "source": [
    "Step 5: Calculate Statistics\n",
    "----------------------------\n",
    "\n",
    "Use `scan` to go through the data for each company and calculate the\n",
    "minimum, maximum, and average prices for each company, for each month."
   ]
  },
  {
   "cell_type": "markdown",
   "metadata": {},
   "source": [
    "    # Load library.\n",
    "    hj_path = ENV['HOME'] + '/hbase-jruby/lib'\n",
    "    $LOAD_PATH << hj_path\n",
    "    require 'hbase-jruby'\n",
    "    \n",
    "    # Connect to HBase on localhost\n",
    "    hbase = HBase.new\n",
    "    \n",
    "    # hbase table object\n",
    "    stocks = hbase.table('stocks')"
   ]
  },
  {
   "cell_type": "markdown",
   "metadata": {
    "collapsed": true
   },
   "source": [
    "    This code works - get all closing values\n",
    "    \n",
    "    results = []\n",
    "    stocks.range('GOOG..GOOG').each do |line|\n",
    "        results << line.string('d:adj_close')\n",
    "    end\n"
   ]
  },
  {
   "cell_type": "markdown",
   "metadata": {},
   "source": [
    "    Sum all closing values\n",
    "    \n",
    "    sum = 0.0\n",
    "    stocks.range('GOOG..GOOG').each do |line|\n",
    "        sum = sum + Float(line.string('d:adj_close'))\n",
    "    end"
   ]
  },
  {
   "cell_type": "markdown",
   "metadata": {},
   "source": [
    "This gets the global min, max, ave values. The original question was to calculate these values for each month!\n",
    "\n",
    "Min value\n",
    "\n",
    "    results.min\n",
    "    \n",
    "Max value\n",
    "\n",
    "    results.max\n",
    "\n",
    "Ave value\n",
    "\n",
    "    sum/results.size"
   ]
  },
  {
   "cell_type": "markdown",
   "metadata": {},
   "source": [
    "maxs = []\n",
    "mins = []\n",
    "for i in [10,11]:\n",
    "\n",
    "    results = []\n",
    "    start = 'GOOG:' + String(i) + ':2005'\n",
    "    end_two = 'GOOG:' + String(i + 1) + ':2005'\n",
    "\n",
    "    stocks.range(start..end_two).each do |line|\n",
    "        results << line.string('d:adj_close')\n",
    "        maxs << results.max\n",
    "        mins << results.mins\n",
    "    end"
   ]
  },
  {
   "cell_type": "markdown",
   "metadata": {},
   "source": [
    "Step 6: Row Key Redesign \n",
    "------------------------\n",
    "\n",
    "Suppose the hedge fund you work for, HedgeBase, now wants to create an\n",
    "index fund based on the stocks of these companies. Each share of the index\n",
    "fund is made up of exactly one share of the constituent companies.\n",
    "\n",
    "They want to use HBase to calculate the minimum/maximum/average price\n",
    "of this index fund.\n",
    "\n",
    "What row key should they use? \n",
    "\n",
    "Design the system that would calculate the minimum, maximum, and\n",
    "average price of the index fund per month."
   ]
  },
  {
   "cell_type": "markdown",
   "metadata": {},
   "source": [
    "Step 7: Extra Credit\n",
    "--------------------\n",
    "\n",
    "Implement the system you designed in the last step."
   ]
  }
 ],
 "metadata": {
  "anaconda-cloud": {},
  "kernelspec": {
   "display_name": "Python [default]",
   "language": "python",
   "name": "python3"
  },
  "language_info": {
   "codemirror_mode": {
    "name": "ipython",
    "version": 3
   },
   "file_extension": ".py",
   "mimetype": "text/x-python",
   "name": "python",
   "nbconvert_exporter": "python",
   "pygments_lexer": "ipython3",
   "version": "3.5.2"
  }
 },
 "nbformat": 4,
 "nbformat_minor": 0
}
