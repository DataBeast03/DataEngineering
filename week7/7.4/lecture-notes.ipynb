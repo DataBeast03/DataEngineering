{
 "cells": [
  {
   "cell_type": "code",
   "execution_count": 1,
   "metadata": {
    "collapsed": false
   },
   "outputs": [
    {
     "data": {
      "application/javascript": [
       "$.getScript('http://asimjalis.github.io/ipyn-ext/js/ipyn-present.js')"
      ],
      "text/plain": [
       "<IPython.core.display.Javascript object>"
      ]
     },
     "metadata": {},
     "output_type": "display_data"
    }
   ],
   "source": [
    "%%javascript\n",
    "$.getScript('http://asimjalis.github.io/ipyn-ext/js/ipyn-present.js')"
   ]
  },
  {
   "cell_type": "markdown",
   "metadata": {},
   "source": [
    "<h1 class=\"tocheading\">Data Engineering in Review</h1>\n",
    "<div id=\"toc\"></div>"
   ]
  },
  {
   "cell_type": "markdown",
   "metadata": {},
   "source": [
    "## Defining data systems\n",
    "\n",
    "$$􏰁\n",
    "\\text{query} = function(􏰁\\text{all data}􏰂)\n",
    "$$  \n",
    "\n",
    "* *Latency*—The time it takes to run a query. May be milliseconds to hours.\n",
    "* *Timeliness*—How up-to-date the query results are. \n",
    "* *Accuracy*—In many cases, approximations may be necessary\n",
    "\n",
    "> ...mutability—and associated concepts like CRUD—are fundamentally not human-fault tolerant...  \n",
    "> ...solution is to make your core data *immutable*...  \n"
   ]
  },
  {
   "cell_type": "markdown",
   "metadata": {},
   "source": [
    "## Batch and serving layers\n",
    "\n",
    "** Basic birthday-inference algorithm **\n",
    "\n",
    "![Figure 18.1](images/18fig01_alt.jpg)\n",
    "\n",
    "### Partial Recomputation\n",
    ">  \n",
    "1. For the new batch of data, find all people who have a new age sample.\n",
    "2. Retrieve all age samples from the master dataset for all people in step 1.\n",
    "3. Recompute the birthdays for all people in step 1 using the age samples from step 2 and the age samples in the new batch.\n",
    "4. Merge the newly computed birthdays into the existing serving layer views.\n",
    "\n",
    "** Bloom join **\n",
    "\n",
    "![Figure 18.2](images/18fig02.jpg)\n",
    "\n",
    "### Measuring and optimizing batch layer resource usage\n",
    "> Consider these examples, which are based on real-world cases:\n",
    "* After doubling the cluster size, the latency of a batch layer went down from 30 hours to 6 hours, an 80% improvement.\n",
    "* An improper reconfiguration caused a Hadoop cluster to have 10% more task failure rates than before. This caused a batch workflow’s runtime to go from 8 hours to 72 hours, a 9x degradation in performance.\n",
    "\n",
    "\n",
    "* $T$—The runtime of the workflow in hours.\n",
    "* $O$—The overhead of the workflow in hours (_things like setting up processes, copying code, etc._)\n",
    "* $H$—The amount of data being processed (_it’s assumed that the rate of incoming data is fairly constant._)\n",
    "* $P$—The dynamic processing time. (_i.e. number of hours each unit of $H$ adds_)\n",
    "\n",
    "$$T = O + P \\times H $$"
   ]
  },
  {
   "cell_type": "markdown",
   "metadata": {},
   "source": [
    "<!--\n",
    "#### Performance effect of doubling cluster size\n",
    "\n",
    "```python\n",
    "from seaborn import plt\n",
    "p = arange(0, .92, 0.01)\n",
    "dt = 1-p/(2-p)  # The effect of doubling cluster size for different values of P\n",
    "_ = plt.plot(p, dt)\n",
    "```\n",
    "* If $P >> O$ then $T$ will be very sensitive to cluster size\n",
    "* If $P << O$ then $T$ will be unaffected by cluster size\n",
    "```python\n",
    "dt = (1-p)/(1-1.11*p)  # The effect of doubling cluster size for different values of P\n",
    "_ = plt.plot(p, dt)\n",
    "```\n",
    "-->"
   ]
  },
  {
   "cell_type": "markdown",
   "metadata": {
    "collapsed": true
   },
   "source": [
    "---\n",
    "## Technologies We Did Not Cover\n",
    "\n",
    "* [YARN](https://hadoop.apache.org/docs/current/hadoop-yarn/hadoop-yarn-site/YARN.html), [Mesos](http://mesos.apache.org/) and other resource management systems\n",
    "* [Ambari](https://ambari.apache.org/), [Cloudera Manager](http://www.cloudera.com/content/cloudera/en/products-and-services/cloudera-enterprise/cloudera-manager.html) and other cluster management systems\n",
    "* [Oozie](http://oozie.apache.org/), [Azkaban](http://data.linkedin.com/opensource/azkaban), and other workflow scheduling tools\n",
    "* [Chef](https://www.chef.io/chef/), [Puppet](https://puppetlabs.com/), [Ansible](http://www.ansible.com/) and other automated deployment systems\n",
    "* [Docker](https://www.docker.com/) and other container and virtual machine environments\n",
    "* [Redshift](https://aws.amazon.com/redshift/), [Greenplum](http://pivotal.io/big-data/pivotal-greenplum-database), [Teradata Aster](http://www.teradata.com/Teradata-Aster/overview/?LangType=1033&LangSelect=true) and other Massively Parallel Processing (MPP) Relational Database Management Systems\n",
    "* [Impala](http://www.cloudera.com/content/cloudera/en/products-and-services/cdh/impala.html), [Presto](https://prestodb.io/) and other distributed, in-memory, SQL query engines\n",
    "* [Sqoop](https://sqoop.apache.org/) - for transfering data from RDBMS databases into Hadoop\n",
    "* [Drill](http://drill.apache.org/) and [Dremel](http://research.google.com/pubs/pub36632.html) - for providing a SQL-like interface to non-relational data\n",
    "* [Cassandra](http://cassandra.apache.org/), [Riak](http://docs.basho.com/riak/latest/) and so many other distributed NoSQL databases.\n",
    "* [RabbitMQ](https://www.rabbitmq.com/), [Flume](https://flume.apache.org/), [Logstash](https://www.elastic.co/products/logstash), [SQS](https://aws.amazon.com/sqs/) and other queueing, messaging, and logging systems\n",
    "* [Storm](https://storm.apache.org/), [Flink](https://flink.apache.org/), [Kinesis](https://aws.amazon.com/kinesis/) and other stream processing systems\n",
    "* [Disco](http://discoproject.org/), [Manta](https://www.joyent.com/object-storage), and other alternatives to Hadoop\n",
    "* [Pregel](https://kowshik.github.io/JPregel/pregel_paper.pdf), [GraphX](http://spark.apache.org/graphx/), [Giraph](http://giraph.apache.org/), [Dryad](http://research.microsoft.com/en-us/projects/dryad/) and other graph processing systems \n",
    "* [H2O](http://h2o.ai/), [GraphLab](https://dato.com/home/), and other scalable machine learning platforms\n",
    "* [PMML](http://dmg.org/pmml/v4-2-1/GeneralStructure.html) and other ways of deploying machine learning models\n",
    "* [Solr](http://lucene.apache.org/solr/), [Elasticsearch](https://www.elastic.co/products/elasticsearch), [Indri](http://www.lemurproject.org/indri/) and other information retrieval systems\n",
    "* [Pig](https://pig.apache.org/), an alternative to Hive for querying Hadoop\n",
    "* [Kerberos](http://web.mit.edu/kerberos/) and other security measures\n",
    "* [Cascading](http://www.cascading.org/), [Scalding](http://www.cascading.org/projects/scalding/) and so on for Hadoop application development\n",
    "* [Celery](http://www.celeryproject.org/) and other distributed task queues\n",
    "* _...and many others..._"
   ]
  },
  {
   "cell_type": "code",
   "execution_count": null,
   "metadata": {
    "collapsed": true
   },
   "outputs": [],
   "source": []
  }
 ],
 "metadata": {
  "kernelspec": {
   "display_name": "Python 2",
   "language": "python",
   "name": "python2"
  },
  "language_info": {
   "codemirror_mode": {
    "name": "ipython",
    "version": 2
   },
   "file_extension": ".py",
   "mimetype": "text/x-python",
   "name": "python",
   "nbconvert_exporter": "python",
   "pygments_lexer": "ipython2",
   "version": "2.7.10"
  }
 },
 "nbformat": 4,
 "nbformat_minor": 0
}
