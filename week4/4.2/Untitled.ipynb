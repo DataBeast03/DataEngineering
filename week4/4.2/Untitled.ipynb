{
 "cells": [
  {
   "cell_type": "markdown",
   "metadata": {},
   "source": [
    "miniquiz\n",
    "========\n",
    "\n",
    "1. Why do we vertically partition our data?\n",
    "\t1. It makes it simpler to move data into the batch layer.\n",
    "\t2. It makes it simpler to restrict queries to certain data.\n",
    "\t3. It obviates the need to stage data.\n",
    "\t4. It makes storage easier.\n",
    "    \n",
    "    "
   ]
  },
  {
   "cell_type": "markdown",
   "metadata": {},
   "source": []
  },
  {
   "cell_type": "markdown",
   "metadata": {},
   "source": [
    "2. Given a graph schema, what will we typically partition on (check all that apply):\n",
    "\t1. properties\n",
    "\t2. edges\n",
    "\t3. nodes\n",
    "\t4. tables\n",
    "    "
   ]
  },
  {
   "cell_type": "markdown",
   "metadata": {},
   "source": [
    "A, B, C"
   ]
  },
  {
   "cell_type": "markdown",
   "metadata": {},
   "source": [
    "3. Which of the following are storage requirements for the master dataset:\n",
    "\t1. Efficient compaction of unused space\n",
    "\t2. Random access to data\n",
    "\t3. Support for parallel processing\n",
    "\t4. Efficient appends of new data\n",
    "    "
   ]
  },
  {
   "cell_type": "markdown",
   "metadata": {},
   "source": [
    "C, D"
   ]
  },
  {
   "cell_type": "markdown",
   "metadata": {},
   "source": [
    "4. Given the following graph schema: ![Student-Class-Graph](miniquiz.svg)  \n",
    "Write out how you would vertically partition facts."
   ]
  },
  {
   "cell_type": "markdown",
   "metadata": {},
   "source": []
  }
 ],
 "metadata": {
  "kernelspec": {
   "display_name": "Python 2",
   "language": "python",
   "name": "python2"
  },
  "language_info": {
   "codemirror_mode": {
    "name": "ipython",
    "version": 2
   },
   "file_extension": ".py",
   "mimetype": "text/x-python",
   "name": "python",
   "nbconvert_exporter": "python",
   "pygments_lexer": "ipython2",
   "version": "2.7.10"
  }
 },
 "nbformat": 4,
 "nbformat_minor": 0
}
