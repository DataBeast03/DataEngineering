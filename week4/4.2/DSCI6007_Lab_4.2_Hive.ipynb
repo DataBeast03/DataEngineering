{
 "cells": [
  {
   "cell_type": "markdown",
   "metadata": {},
   "source": [
    "## Step 1: Start Hive\n",
    "\n",
    "Follow the steps in the lecture to start your Hortonworks Sandbox VM.\n",
    "\n",
    "Start 2 `ssh` session2 into it.\n",
    "\n",
    "Start the Hive shell in one session.\n",
    "\n",
    "Leave the other session running the Bash shell. "
   ]
  },
  {
   "cell_type": "markdown",
   "metadata": {},
   "source": [
    "    Start VirtualBox.\n",
    "    Select Hortonworks Sandbox\n",
    "    Holding down the Shift key click Start. This brings up the machine headless.\n",
    "\n",
    "####Window 1\n",
    "    Connect to it using ssh -p 2222 root@127.0.0.1\n",
    "    Use hadoop as the password.\n",
    "    Type hive to start the Hive shell.\n",
    "\n",
    "####Window 2\n",
    "    Connect to it using ssh -p 2222 root@127.0.0.1\n",
    "    Use hadoop as the password."
   ]
  },
  {
   "cell_type": "markdown",
   "metadata": {},
   "source": [
    "## Step 2: Upload Movielens Data to HDFS\n",
    "\n",
    "Download the MovieLens data files from the web (`ml-latest-small`).\n",
    "\n",
    "Unzip it and upload these files into HDFS:\n",
    "\n",
    "- `links.csv`\n",
    "- `movies.csv`\n",
    "- `ratings.csv`\n",
    "- `tags.csv`"
   ]
  },
  {
   "cell_type": "markdown",
   "metadata": {},
   "source": [
    "## Step 3: Create Tables\n",
    "\n",
    "Here are the header lines from the files.\n",
    "\n",
    "File           |First Line\n",
    "----           |----------\n",
    "`links.csv `   |`movieId,imdbId,tmdbId`\n",
    "`movies.csv`   |`movieId,title,genres`\n",
    "`ratings.csv`  |`userId,movieId,rating,timestamp`\n",
    "`tags.csv `    |`userId,movieId,tag,timestamp`\n",
    "\n",
    "Execute `CREATE TABLE` commands to create internal tables for each of\n",
    "these files.\n",
    "\n",
    "Use `DESCRIBE FORMATTED` to verify that the tables are created\n",
    "correctly."
   ]
  },
  {
   "cell_type": "markdown",
   "metadata": {},
   "source": [
    "    -- Drop table if it exists.\n",
    "    DROP TABLE IF EXISTS  links;\n",
    "\n",
    "    -- Create table.\n",
    "    CREATE TABLE links(\n",
    "      movieId INT,\n",
    "      imdbId INT,\n",
    "      tmdbID INT\n",
    "    )\n",
    "    ROW FORMAT DELIMITED \n",
    "    FIELDS TERMINATED BY ','\n",
    "    STORED AS TEXTFILE\n",
    "    TBLPROPERTIES(\"skip.header.line.count\"=\"1\");\n",
    "\n",
    "    -- Load data to Hive.\n",
    "    LOAD DATA \n",
    "    INPATH '/user/root/movie_data/links.csv' \n",
    "    OVERWRITE \n",
    "    INTO TABLE links;"
   ]
  },
  {
   "cell_type": "markdown",
   "metadata": {},
   "source": [
    "    -- Drop table if it exists.\n",
    "    DROP TABLE IF EXISTS movies;\n",
    "\n",
    "    -- Create table.\n",
    "    CREATE TABLE movies(\n",
    "      movieId INT,\n",
    "      title string,\n",
    "      genre string\n",
    "    )\n",
    "    ROW FORMAT DELIMITED \n",
    "    FIELDS TERMINATED BY ','\n",
    "    STORED AS TEXTFILE\n",
    "    TBLPROPERTIES(\"skip.header.line.count\"=\"1\");\n",
    "\n",
    "    -- Load data to Hive.\n",
    "    LOAD DATA \n",
    "    INPATH '/user/root/movie_data/movies.csv' \n",
    "    OVERWRITE \n",
    "    INTO TABLE movies;"
   ]
  },
  {
   "cell_type": "markdown",
   "metadata": {},
   "source": [
    "    -- Drop table if it exists.\n",
    "    DROP TABLE IF EXISTS ratings;\n",
    "\n",
    "    -- Create table.\n",
    "    CREATE TABLE ratings(\n",
    "    userId INT,\n",
    "    movieId INT,\n",
    "    rating FLOAT,\n",
    "    time INT\n",
    "    )\n",
    "    ROW FORMAT DELIMITED \n",
    "    FIELDS TERMINATED BY ','\n",
    "    STORED AS TEXTFILE\n",
    "    TBLPROPERTIES(\"skip.header.line.count\"=\"1\");\n",
    "\n",
    "    -- Load data to Hive.\n",
    "    LOAD DATA \n",
    "    INPATH '/user/root/movie_data/ratings.csv' \n",
    "    OVERWRITE \n",
    "    INTO TABLE ratings;"
   ]
  },
  {
   "cell_type": "markdown",
   "metadata": {},
   "source": [
    "    -- Drop table if it exists.\n",
    "    DROP TABLE IF EXISTS tags;\n",
    "\n",
    "    -- Create table.\n",
    "    CREATE TABLE tags(\n",
    "    userId INT ,\n",
    "    movieId INT,\n",
    "    tag STRING,\n",
    "    time INT\n",
    "    )\n",
    "    ROW FORMAT DELIMITED \n",
    "    FIELDS TERMINATED BY ','\n",
    "    STORED AS TEXTFILE\n",
    "    TBLPROPERTIES(\"skip.header.line.count\"=\"1\");\n",
    "\n",
    "    -- Load data to Hive.\n",
    "    LOAD DATA \n",
    "    INPATH '/user/root/movie_data/tags.csv' \n",
    "    OVERWRITE \n",
    "    INTO TABLE tags;"
   ]
  },
  {
   "cell_type": "markdown",
   "metadata": {},
   "source": [
    "## Step 4: Hive Queries\n",
    "\n",
    "Write Hive Queries to perform the following actions.\n",
    "\n",
    "- Count the number of movies in the `movies` table.\n",
    "\n",
    "- Count the number of distinct tags grouped by tags."
   ]
  },
  {
   "cell_type": "markdown",
   "metadata": {},
   "source": [
    "    hive> select count(DISTINCT movieId) from movies;\n",
    "\n",
    "    Query ID = root_20150917045139_59c38079-70fc-4b58-a2fc-eb635eef5f11\n",
    "    Total jobs = 1\n",
    "    Launching Job 1 out of 1\n",
    "\n",
    "\n",
    "    Status: Running (Executing on YARN cluster with App id application_1442465149828_0001)\n",
    "\n",
    "    Map 1: -/-\tReducer 2: 0/1\tReducer 3: 0/1\n",
    "    Map 1: 0/1\tReducer 2: 0/1\tReducer 3: 0/1\n",
    "    Map 1: 0(+1)/1\tReducer 2: 0/1\tReducer 3: 0/1\n",
    "    Map 1: 1/1\tReducer 2: 0(+1)/1\tReducer 3: 0/1\n",
    "    Map 1: 1/1\tReducer 2: 1/1\tReducer 3: 0/1\n",
    "    Map 1: 1/1\tReducer 2: 1/1\tReducer 3: 0(+1)/1\n",
    "    Map 1: 1/1\tReducer 2: 1/1\tReducer 3: 1/1\n",
    "    OK\n",
    "    718\n",
    "    Time taken: 20.148 seconds, Fetched: 1 row(s)"
   ]
  },
  {
   "cell_type": "markdown",
   "metadata": {},
   "source": [
    "####The GROUP BY clause is used to group all the records in a result set using a particular collection column (global grouping)\n",
    "\n",
    "    hive> select tag, count(*) from tags group by tag limit 10;\n",
    "\n",
    "    Query ID = root_20150917051333_85ed1b26-c657-46bf-9132-214c95cf375e\n",
    "    Total jobs = 1\n",
    "    Launching Job 1 out of 1\n",
    "\n",
    "\n",
    "    Status: Running (Executing on YARN cluster with App id application_1442465149828_0003)\n",
    "\n",
    "    Map 1: 0/1\tReducer 2: 0/1\n",
    "    Map 1: 0(+1)/1\tReducer 2: 0/1\n",
    "    Map 1: 1/1\tReducer 2: 0/1\n",
    "    Map 1: 1/1\tReducer 2: 0(+1)/1\n",
    "    Map 1: 1/1\tReducer 2: 1/1\n",
    "    OK\n",
    "    007\t6\n",
    "    06 Oscar Nominated Best Movie - Animation\t3\n",
    "    1900s\t1\n",
    "    1920s\t2\n",
    "    1950s\t2\n",
    "    1960s\t1\n",
    "    1970s\t3\n",
    "    1980s\t2\n",
    "    80's cult movie\t1\n",
    "    AIDs\t2\n",
    "    Time taken: 6.929 seconds, Fetched: 10 row(s)"
   ]
  },
  {
   "cell_type": "markdown",
   "metadata": {},
   "source": [
    "## Step 5: Extra Challenge\n",
    "\n",
    "- For each movie find how many ratings it has."
   ]
  },
  {
   "cell_type": "markdown",
   "metadata": {},
   "source": [
    "    hive> select movieId, count(rating) from ratings group by movieId limit 10;\n",
    "\n",
    "    Query ID = root_20150917051727_64e0c987-d8e5-4391-ac7e-b2a37dbb4482\n",
    "    Total jobs = 1\n",
    "    Launching Job 1 out of 1\n",
    "\n",
    "\n",
    "    Status: Running (Executing on YARN cluster with App id application_1442465149828_0003)\n",
    "\n",
    "    Map 1: 0/1\tReducer 2: 0/1\n",
    "    Map 1: 0(+1)/1\tReducer 2: 0/1\n",
    "    Map 1: 1/1\tReducer 2: 0/1\n",
    "    Map 1: 1/1\tReducer 2: 0(+1)/1\n",
    "    Map 1: 1/1\tReducer 2: 1/1\n",
    "    OK\n",
    "    1\t263\n",
    "    2\t107\n",
    "    3\t59\n",
    "    4\t8\n",
    "    5\t58\n",
    "    6\t124\n",
    "    7\t51\n",
    "    8\t4\n",
    "    9\t17\n",
    "    10\t142\n",
    "    Time taken: 9.028 seconds, Fetched: 10 row(s)"
   ]
  },
  {
   "cell_type": "markdown",
   "metadata": {},
   "source": [
    "- For each movie find out the average rating."
   ]
  },
  {
   "cell_type": "markdown",
   "metadata": {
    "collapsed": true
   },
   "source": [
    "    hive> select movieId, avg(rating) from ratings group by movieId sort by movieId desc limit 10;\n",
    "\n",
    "    135887\t4.5\n",
    "    134853\t4.3\n",
    "    134783\t0.5\n",
    "    134393\t4.0\n",
    "    134368\t5.0\n",
    "    134170\t3.75\n",
    "    133897\t3.0\n",
    "    133545\t2.5\n",
    "    133419\t1.75\n",
    "    132796\t5.0"
   ]
  },
  {
   "cell_type": "markdown",
   "metadata": {},
   "source": [
    "- Find top 10 movies with the highest average ratings that have at least 5 ratings."
   ]
  },
  {
   "cell_type": "markdown",
   "metadata": {},
   "source": [
    "    select * \n",
    "    from (select id from test where id>10) a \n",
    "    join (select id from test where id>20) b \n",
    "    on a.id=b.id;"
   ]
  },
  {
   "cell_type": "markdown",
   "metadata": {},
   "source": [
    "    select ratings.movieId, avg(ratings.rating) as ave\n",
    "    from ratings\n",
    "\n",
    "    right join \n",
    "        (select count(ratings.rating) as cnt\n",
    "         from ratings\n",
    "         ) as cnt_table\n",
    "\n",
    "    on movieId.ratings = movieId.cnt_table\n",
    "    where count(cnt_table.cnt) > 5\n",
    "    group by cnt_table.movieId\n",
    "    order by ratings.ave desc \n",
    "    limit 10;"
   ]
  },
  {
   "cell_type": "markdown",
   "metadata": {},
   "source": [
    "## Step 6: Drop Tables\n",
    "\n",
    "- When you are done drop the tables.\n",
    "\n",
    "- Do you need to do anything else to get rid of the data?"
   ]
  },
  {
   "cell_type": "code",
   "execution_count": null,
   "metadata": {
    "collapsed": true
   },
   "outputs": [],
   "source": []
  }
 ],
 "metadata": {
  "kernelspec": {
   "display_name": "Python 2",
   "language": "python",
   "name": "python2"
  },
  "language_info": {
   "codemirror_mode": {
    "name": "ipython",
    "version": 2
   },
   "file_extension": ".py",
   "mimetype": "text/x-python",
   "name": "python",
   "nbconvert_exporter": "python",
   "pygments_lexer": "ipython2",
   "version": "2.7.10"
  }
 },
 "nbformat": 4,
 "nbformat_minor": 0
}
