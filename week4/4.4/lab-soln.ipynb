{
 "cells": [
  {
   "cell_type": "code",
   "execution_count": 1,
   "metadata": {
    "collapsed": true
   },
   "outputs": [],
   "source": [
    "from cStringIO import StringIO\n",
    "\n",
    "import fastavro"
   ]
  },
  {
   "cell_type": "code",
   "execution_count": 2,
   "metadata": {
    "collapsed": false
   },
   "outputs": [],
   "source": [
    "import pyspark"
   ]
  },
  {
   "cell_type": "code",
   "execution_count": 3,
   "metadata": {
    "collapsed": false
   },
   "outputs": [],
   "source": [
    "sc = pyspark.SparkContext()"
   ]
  },
  {
   "cell_type": "markdown",
   "metadata": {},
   "source": [
    "URL normalization\n",
    "---------------------"
   ]
  },
  {
   "cell_type": "markdown",
   "metadata": {},
   "source": [
    "####Option 1: Upload pickle files into Spark"
   ]
  },
  {
   "cell_type": "code",
   "execution_count": 24,
   "metadata": {
    "collapsed": true
   },
   "outputs": [],
   "source": [
    "# load and distribute pickle files into spark\n",
    "# create RDD\n",
    "pickled_page_views = sc.pickleFile(\"../SuperWebAnalytics/master/page_view/\")"
   ]
  },
  {
   "cell_type": "code",
   "execution_count": 38,
   "metadata": {
    "collapsed": false,
    "scrolled": true
   },
   "outputs": [
    {
     "data": {
      "text/plain": [
       "[{u'dataunit': {u'page_view': {u'nonce': 909462739,\n",
       "    u'page': {u'url': u'http://mysite.com/'},\n",
       "    u'person': {u'cookie': u'KLMNO'}}},\n",
       "  u'pedigree': {u'true_as_of_secs': 1438381257}}]"
      ]
     },
     "execution_count": 38,
     "metadata": {},
     "output_type": "execute_result"
    }
   ],
   "source": [
    "pickled_page_views.take(1)"
   ]
  },
  {
   "cell_type": "markdown",
   "metadata": {},
   "source": [
    "####Option 2: Upload binary files into Spark"
   ]
  },
  {
   "cell_type": "code",
   "execution_count": 26,
   "metadata": {
    "collapsed": true
   },
   "outputs": [],
   "source": [
    "# load and distribute binary files into spark \n",
    "raw_page_views = sc.binaryFiles(\"../SuperWebAnalytics/master/page_view/*\")"
   ]
  },
  {
   "cell_type": "code",
   "execution_count": 27,
   "metadata": {
    "collapsed": true
   },
   "outputs": [],
   "source": [
    "import fastavro\n",
    "from cStringIO import StringIO\n",
    "\n",
    "# transforms raw data into string object (?)\n",
    "avro_page_views = raw_page_views.map(lambda t: StringIO(t[1]))\n",
    "\n",
    "# deserializing avro data\n",
    "json_page_views = avro_page_views.flatMap(fastavro.reader)"
   ]
  },
  {
   "cell_type": "code",
   "execution_count": 40,
   "metadata": {
    "collapsed": false
   },
   "outputs": [],
   "source": [
    "page_views = raw_page_views.flatMap(lambda x: x[1].split(\"\\n\")).filter(len)#.values().map(eval)"
   ]
  },
  {
   "cell_type": "code",
   "execution_count": 42,
   "metadata": {
    "collapsed": false
   },
   "outputs": [
    {
     "data": {
      "text/plain": [
       "['SEQ\\x06!org.apache.hadoop.io.NullWritable\"org.apache.hadoop.io.BytesWritable\\x00\\x00\\x00\\x00\\x00\\x00\\x7f8\\x11\\xc3\\x04\\xe0\\xa0\\xa9\\x0c\\xeeXN\\xf4\"\\x15o',\n",
       " 'SEQ\\x06!org.apache.hadoop.io.NullWritable\"org.apache.hadoop.io.BytesWritable\\x00\\x00\\x00\\x00\\x00\\x00\\x03\\x8fP\\xa3\\xdc\\x8b\\xcc\\xde\\xa2\\xbe\\x85~\\xf6\\xf2S\\x8e']"
      ]
     },
     "execution_count": 42,
     "metadata": {},
     "output_type": "execute_result"
    }
   ],
   "source": [
    "page_views.take(2)"
   ]
  },
  {
   "cell_type": "markdown",
   "metadata": {},
   "source": [
    "####This lab will use the RDD for pickle files "
   ]
  },
  {
   "cell_type": "code",
   "execution_count": 35,
   "metadata": {
    "collapsed": true
   },
   "outputs": [],
   "source": [
    "from requests.utils import urlparse\n",
    "def normalize_url(datum):\n",
    "    pr = urlparse(datum['dataunit']['page_view']['page']['url'])\n",
    "    datum['dataunit']['page_view']['page']['url'] = pr.hostname + pr.path\n",
    "    return datum"
   ]
  },
  {
   "cell_type": "markdown",
   "metadata": {},
   "source": [
    "###Explore normalize_url function"
   ]
  },
  {
   "cell_type": "code",
   "execution_count": 45,
   "metadata": {
    "collapsed": false
   },
   "outputs": [],
   "source": [
    "datum = pickled_page_views.take(1)"
   ]
  },
  {
   "cell_type": "code",
   "execution_count": 46,
   "metadata": {
    "collapsed": false
   },
   "outputs": [
    {
     "data": {
      "text/plain": [
       "{u'page_view': {u'nonce': 909462739,\n",
       "  u'page': {u'url': u'http://mysite.com/'},\n",
       "  u'person': {u'cookie': u'KLMNO'}}}"
      ]
     },
     "execution_count": 46,
     "metadata": {},
     "output_type": "execute_result"
    }
   ],
   "source": [
    "# isolate the data unit's content\n",
    "datum[0]['dataunit']"
   ]
  },
  {
   "cell_type": "code",
   "execution_count": 47,
   "metadata": {
    "collapsed": false
   },
   "outputs": [
    {
     "data": {
      "text/plain": [
       "{u'nonce': 909462739,\n",
       " u'page': {u'url': u'http://mysite.com/'},\n",
       " u'person': {u'cookie': u'KLMNO'}}"
      ]
     },
     "execution_count": 47,
     "metadata": {},
     "output_type": "execute_result"
    }
   ],
   "source": [
    "# isolate the page_view edge's content\n",
    "datum[0]['dataunit']['page_view']"
   ]
  },
  {
   "cell_type": "code",
   "execution_count": 48,
   "metadata": {
    "collapsed": false
   },
   "outputs": [
    {
     "data": {
      "text/plain": [
       "{u'url': u'http://mysite.com/'}"
      ]
     },
     "execution_count": 48,
     "metadata": {},
     "output_type": "execute_result"
    }
   ],
   "source": [
    "# isolate the nest that contains the url\n",
    "datum[0]['dataunit']['page_view']['page']"
   ]
  },
  {
   "cell_type": "code",
   "execution_count": 49,
   "metadata": {
    "collapsed": false
   },
   "outputs": [
    {
     "data": {
      "text/plain": [
       "u'http://mysite.com/'"
      ]
     },
     "execution_count": 49,
     "metadata": {},
     "output_type": "execute_result"
    }
   ],
   "source": [
    "# isolate the url \n",
    "datum[0]['dataunit']['page_view']['page']['url']"
   ]
  },
  {
   "cell_type": "code",
   "execution_count": 53,
   "metadata": {
    "collapsed": false
   },
   "outputs": [],
   "source": [
    "from requests.utils import urlparse"
   ]
  },
  {
   "cell_type": "code",
   "execution_count": 56,
   "metadata": {
    "collapsed": false
   },
   "outputs": [
    {
     "data": {
      "text/plain": [
       "ParseResult(scheme=u'http', netloc=u'mysite.com', path=u'/', params='', query='', fragment='')"
      ]
     },
     "execution_count": 56,
     "metadata": {},
     "output_type": "execute_result"
    }
   ],
   "source": [
    "# catagorize characters in url\n",
    "urlparse(datum[0]['dataunit']['page_view']['page']['url'])"
   ]
  },
  {
   "cell_type": "code",
   "execution_count": 55,
   "metadata": {
    "collapsed": false
   },
   "outputs": [],
   "source": [
    "pr = urlparse(datum[0]['dataunit']['page_view']['page']['url'])"
   ]
  },
  {
   "cell_type": "code",
   "execution_count": 57,
   "metadata": {
    "collapsed": false
   },
   "outputs": [
    {
     "data": {
      "text/plain": [
       "u'mysite.com'"
      ]
     },
     "execution_count": 57,
     "metadata": {},
     "output_type": "execute_result"
    }
   ],
   "source": [
    "pr.hostname"
   ]
  },
  {
   "cell_type": "code",
   "execution_count": 58,
   "metadata": {
    "collapsed": false
   },
   "outputs": [
    {
     "data": {
      "text/plain": [
       "u'/'"
      ]
     },
     "execution_count": 58,
     "metadata": {},
     "output_type": "execute_result"
    }
   ],
   "source": [
    "pr.path"
   ]
  },
  {
   "cell_type": "code",
   "execution_count": 60,
   "metadata": {
    "collapsed": false
   },
   "outputs": [],
   "source": [
    "datum[0]['dataunit']['page_view']['page']['url'] = pr.hostname + pr.path"
   ]
  },
  {
   "cell_type": "code",
   "execution_count": 62,
   "metadata": {
    "collapsed": false
   },
   "outputs": [
    {
     "data": {
      "text/plain": [
       "u'mysite.com/'"
      ]
     },
     "execution_count": 62,
     "metadata": {},
     "output_type": "execute_result"
    }
   ],
   "source": [
    "# This function re-formates the url \n",
    "# This output is returned by the function for each url passed in\n",
    "datum[0]['dataunit']['page_view']['page']['url']"
   ]
  },
  {
   "cell_type": "markdown",
   "metadata": {},
   "source": [
    "####Normalize url"
   ]
  },
  {
   "cell_type": "code",
   "execution_count": 36,
   "metadata": {
    "collapsed": false
   },
   "outputs": [],
   "source": [
    "normalized_page_views = pickled_page_views.map(normalize_url)"
   ]
  },
  {
   "cell_type": "code",
   "execution_count": 37,
   "metadata": {
    "collapsed": false,
    "scrolled": true
   },
   "outputs": [
    {
     "data": {
      "text/plain": [
       "{u'dataunit': {u'page_view': {u'nonce': 909462739,\n",
       "   u'page': {u'url': u'mysite.com/'},\n",
       "   u'person': {u'cookie': u'KLMNO'}}},\n",
       " u'pedigree': {u'true_as_of_secs': 1438381257}}"
      ]
     },
     "execution_count": 37,
     "metadata": {},
     "output_type": "execute_result"
    }
   ],
   "source": [
    "normalized_page_views.first()"
   ]
  },
  {
   "cell_type": "markdown",
   "metadata": {},
   "source": [
    "#####Unnormalized url"
   ]
  },
  {
   "cell_type": "code",
   "execution_count": 63,
   "metadata": {
    "collapsed": false
   },
   "outputs": [
    {
     "data": {
      "text/plain": [
       "{u'dataunit': {u'page_view': {u'nonce': 909462739,\n",
       "   u'page': {u'url': u'http://mysite.com/'},\n",
       "   u'person': {u'cookie': u'KLMNO'}}},\n",
       " u'pedigree': {u'true_as_of_secs': 1438381257}}"
      ]
     },
     "execution_count": 63,
     "metadata": {},
     "output_type": "execute_result"
    }
   ],
   "source": [
    "pickled_page_views.first()"
   ]
  },
  {
   "cell_type": "markdown",
   "metadata": {},
   "source": [
    "Deduplicate pageviews\n",
    "---------------------"
   ]
  },
  {
   "cell_type": "code",
   "execution_count": 66,
   "metadata": {
    "collapsed": false
   },
   "outputs": [],
   "source": [
    "import simplejson as json\n",
    "distinct_normalized_page_views = normalized_page_views.map(json.dumps)\\ # serializes data\n",
    "                                                      .distinct()\\\n",
    "                                                      .map(json.loads)  # deserializes data"
   ]
  },
  {
   "cell_type": "code",
   "execution_count": 65,
   "metadata": {
    "collapsed": false
   },
   "outputs": [
    {
     "data": {
      "text/plain": [
       "{'dataunit': {'page_view': {'nonce': 695934296,\n",
       "   'page': {'url': 'mysite.com/blog'},\n",
       "   'person': {'user_id': 3409}}},\n",
       " 'pedigree': {'true_as_of_secs': 1438381343}}"
      ]
     },
     "execution_count": 65,
     "metadata": {},
     "output_type": "execute_result"
    }
   ],
   "source": [
    "distinct_normalized_page_views.first()"
   ]
  },
  {
   "cell_type": "markdown",
   "metadata": {
    "collapsed": false
   },
   "source": [
    "Pageviews over time\n",
    "---------------------"
   ]
  },
  {
   "cell_type": "code",
   "execution_count": 82,
   "metadata": {
    "collapsed": false
   },
   "outputs": [
    {
     "data": {
      "text/plain": [
       "{'d': 86400, 'h': 3600, 'm': 2419200, 'w': 604800}"
      ]
     },
     "execution_count": 82,
     "metadata": {},
     "output_type": "execute_result"
    }
   ],
   "source": [
    "granularity = {'h': 60 * 60}\n",
    "granularity['d'] = granularity['h'] * 24\n",
    "granularity['w'] = granularity['d'] * 7\n",
    "granularity['m'] = granularity['w'] * 4\n",
    "granularity"
   ]
  },
  {
   "cell_type": "markdown",
   "metadata": {},
   "source": [
    "####Explore how users are grouped into time blocks \n",
    "    ie. by hours, days, weeks, ..."
   ]
  },
  {
   "cell_type": "code",
   "execution_count": 68,
   "metadata": {
    "collapsed": false
   },
   "outputs": [
    {
     "name": "stdout",
     "output_type": "stream",
     "text": [
      "There are 3600 seconds in 1 hour\n"
     ]
    }
   ],
   "source": [
    "print \"There are {} seconds in 1 hour\".format(60*60)"
   ]
  },
  {
   "cell_type": "code",
   "execution_count": 72,
   "metadata": {
    "collapsed": false
   },
   "outputs": [],
   "source": [
    "one_hr  = 3600 # seconds\n",
    "ts = 1.5 * one_hr # let this be a ts for some user"
   ]
  },
  {
   "cell_type": "code",
   "execution_count": 73,
   "metadata": {
    "collapsed": false
   },
   "outputs": [
    {
     "data": {
      "text/plain": [
       "1800.0"
      ]
     },
     "execution_count": 73,
     "metadata": {},
     "output_type": "execute_result"
    }
   ],
   "source": [
    "ts % one_hr # this user is half way into the 2nd hour block "
   ]
  },
  {
   "cell_type": "code",
   "execution_count": null,
   "metadata": {
    "collapsed": true
   },
   "outputs": [],
   "source": [
    "# 1 week hour range\n",
    "# 1 hour (60 * 60)\n",
    "# 1 day = 24 * 1 hour\n",
    "# 1 week = 7 * 1 day\n",
    "# fraction n * 1 week range = n * 1 week\n",
    "# present time + n * 1 week"
   ]
  },
  {
   "cell_type": "code",
   "execution_count": 78,
   "metadata": {
    "collapsed": false
   },
   "outputs": [
    {
     "name": "stdout",
     "output_type": "stream",
     "text": [
      "1438912800\n",
      "This user has been identified as being 0.778 into an hour block\n"
     ]
    }
   ],
   "source": [
    "# hence, this user has been identified as being \n",
    "print 1438913491 - 1438913491 % (60*60)\n",
    "print \"This user has been identified as being {:.3} into an hour block\".format(2800.0/3600)"
   ]
  },
  {
   "cell_type": "code",
   "execution_count": 83,
   "metadata": {
    "collapsed": true
   },
   "outputs": [],
   "source": [
    "def hourly(datum):\n",
    "    url = datum['dataunit']['page_view']['page']['url']\n",
    "    true_as_of_secs = datum['pedigree']['true_as_of_secs']\n",
    "    return (url, 'h', true_as_of_secs - true_as_of_secs % granularity['h']), datum"
   ]
  },
  {
   "cell_type": "code",
   "execution_count": 94,
   "metadata": {
    "collapsed": false
   },
   "outputs": [
    {
     "data": {
      "text/plain": [
       "{u'dataunit': {u'page_view': {u'nonce': 909462739,\n",
       "   u'page': {u'url': u'mysite.com/'},\n",
       "   u'person': {u'cookie': u'KLMNO'}}},\n",
       " u'pedigree': {u'true_as_of_secs': 1438381257}}"
      ]
     },
     "execution_count": 94,
     "metadata": {},
     "output_type": "execute_result"
    }
   ],
   "source": [
    "datum[0]"
   ]
  },
  {
   "cell_type": "code",
   "execution_count": 93,
   "metadata": {
    "collapsed": false
   },
   "outputs": [
    {
     "data": {
      "text/plain": [
       "((u'mysite.com/', 'h', 1438380000),\n",
       " {u'dataunit': {u'page_view': {u'nonce': 909462739,\n",
       "    u'page': {u'url': u'mysite.com/'},\n",
       "    u'person': {u'cookie': u'KLMNO'}}},\n",
       "  u'pedigree': {u'true_as_of_secs': 1438381257}})"
      ]
     },
     "execution_count": 93,
     "metadata": {},
     "output_type": "execute_result"
    }
   ],
   "source": [
    "# the pedigree is reformated\n",
    "hourly(datum[0]) # = (reformated pedigree, dataunit)"
   ]
  },
  {
   "cell_type": "markdown",
   "metadata": {},
   "source": [
    "####hourly function returns key_value tuple and datum"
   ]
  },
  {
   "cell_type": "code",
   "execution_count": 119,
   "metadata": {
    "collapsed": false
   },
   "outputs": [],
   "source": [
    "key_value ,dat = hourly(datum[0])"
   ]
  },
  {
   "cell_type": "code",
   "execution_count": 121,
   "metadata": {
    "collapsed": false
   },
   "outputs": [
    {
     "data": {
      "text/plain": [
       "(u'mysite.com/', 'h', 1438380000)"
      ]
     },
     "execution_count": 121,
     "metadata": {},
     "output_type": "execute_result"
    }
   ],
   "source": [
    "key_value"
   ]
  },
  {
   "cell_type": "code",
   "execution_count": 122,
   "metadata": {
    "collapsed": false
   },
   "outputs": [
    {
     "data": {
      "text/plain": [
       "{u'dataunit': {u'page_view': {u'nonce': 909462739,\n",
       "   u'page': {u'url': u'mysite.com/'},\n",
       "   u'person': {u'cookie': u'KLMNO'}}},\n",
       " u'pedigree': {u'true_as_of_secs': 1438381257}}"
      ]
     },
     "execution_count": 122,
     "metadata": {},
     "output_type": "execute_result"
    }
   ],
   "source": [
    "dat"
   ]
  },
  {
   "cell_type": "code",
   "execution_count": 84,
   "metadata": {
    "collapsed": false
   },
   "outputs": [],
   "source": [
    "# some how Spark knows to ignore the datum ?!?!?\n",
    "hourly_rollup = distinct_normalized_page_views.map(hourly).countByKey()"
   ]
  },
  {
   "cell_type": "code",
   "execution_count": 111,
   "metadata": {
    "collapsed": false
   },
   "outputs": [
    {
     "data": {
      "text/plain": [
       "[(('mysite.com/blog', 'h', 1438380000), 299527),\n",
       " (('mysite.com/', 'h', 1438380000), 299744)]"
      ]
     },
     "execution_count": 111,
     "metadata": {},
     "output_type": "execute_result"
    }
   ],
   "source": [
    "hourly_rollup.items() # (key, value) pairs"
   ]
  },
  {
   "cell_type": "code",
   "execution_count": 125,
   "metadata": {
    "collapsed": false
   },
   "outputs": [],
   "source": [
    "key, value = zip(*hourly_rollup.items()) # gives key value paris "
   ]
  },
  {
   "cell_type": "code",
   "execution_count": 126,
   "metadata": {
    "collapsed": false
   },
   "outputs": [
    {
     "data": {
      "text/plain": [
       "[('mysite.com/blog', 'h', 1438380000), ('mysite.com/', 'h', 1438380000)]"
      ]
     },
     "execution_count": 126,
     "metadata": {},
     "output_type": "execute_result"
    }
   ],
   "source": [
    "hourly_rollup.keys()"
   ]
  },
  {
   "cell_type": "code",
   "execution_count": 127,
   "metadata": {
    "collapsed": false
   },
   "outputs": [
    {
     "data": {
      "text/plain": [
       "(('mysite.com/blog', 'h', 1438380000), ('mysite.com/', 'h', 1438380000))"
      ]
     },
     "execution_count": 127,
     "metadata": {},
     "output_type": "execute_result"
    }
   ],
   "source": [
    "key # the keys 'mysite.com/blog' and 'mysite.com/' (with a timestampe)"
   ]
  },
  {
   "cell_type": "code",
   "execution_count": 128,
   "metadata": {
    "collapsed": false
   },
   "outputs": [
    {
     "data": {
      "text/plain": [
       "[299527, 299744]"
      ]
     },
     "execution_count": 128,
     "metadata": {},
     "output_type": "execute_result"
    }
   ],
   "source": [
    "hourly_rollup.values()"
   ]
  },
  {
   "cell_type": "code",
   "execution_count": 129,
   "metadata": {
    "collapsed": false
   },
   "outputs": [
    {
     "data": {
      "text/plain": [
       "(299527, 299744)"
      ]
     },
     "execution_count": 129,
     "metadata": {},
     "output_type": "execute_result"
    }
   ],
   "source": [
    "value # the values are the counts of the keys "
   ]
  },
  {
   "cell_type": "code",
   "execution_count": 130,
   "metadata": {
    "collapsed": false
   },
   "outputs": [
    {
     "data": {
      "text/plain": [
       "[('mysite.com/blog', 'h', 1438380000), ('mysite.com/', 'h', 1438380000)]"
      ]
     },
     "execution_count": 130,
     "metadata": {},
     "output_type": "execute_result"
    }
   ],
   "source": [
    "hourly_rollup.keys()"
   ]
  },
  {
   "cell_type": "code",
   "execution_count": 131,
   "metadata": {
    "collapsed": true
   },
   "outputs": [],
   "source": [
    "import pandas as pd"
   ]
  },
  {
   "cell_type": "markdown",
   "metadata": {},
   "source": [
    "####Display data in a table"
   ]
  },
  {
   "cell_type": "code",
   "execution_count": 132,
   "metadata": {
    "collapsed": false
   },
   "outputs": [
    {
     "ename": "ValueError",
     "evalue": "Length of names must match number of levels in MultiIndex.",
     "output_type": "error",
     "traceback": [
      "\u001b[0;31m---------------------------------------------------------------------------\u001b[0m",
      "\u001b[0;31mValueError\u001b[0m                                Traceback (most recent call last)",
      "\u001b[0;32m<ipython-input-132-cece161d3705>\u001b[0m in \u001b[0;36m<module>\u001b[0;34m()\u001b[0m\n\u001b[1;32m      1\u001b[0m pd.DataFrame({'count': c}, \n\u001b[0;32m----> 2\u001b[0;31m              index=pd.MultiIndex.from_tuples(i, names=('url', 'hour'))).reset_index()\n\u001b[0m",
      "\u001b[0;32m//anaconda/lib/python2.7/site-packages/pandas/core/index.pyc\u001b[0m in \u001b[0;36mfrom_tuples\u001b[0;34m(cls, tuples, sortorder, names)\u001b[0m\n\u001b[1;32m   3683\u001b[0m \u001b[0;34m\u001b[0m\u001b[0m\n\u001b[1;32m   3684\u001b[0m         return MultiIndex.from_arrays(arrays, sortorder=sortorder,\n\u001b[0;32m-> 3685\u001b[0;31m                                       names=names)\n\u001b[0m\u001b[1;32m   3686\u001b[0m \u001b[0;34m\u001b[0m\u001b[0m\n\u001b[1;32m   3687\u001b[0m     \u001b[0;34m@\u001b[0m\u001b[0mclassmethod\u001b[0m\u001b[0;34m\u001b[0m\u001b[0m\n",
      "\u001b[0;32m//anaconda/lib/python2.7/site-packages/pandas/core/index.pyc\u001b[0m in \u001b[0;36mfrom_arrays\u001b[0;34m(cls, arrays, sortorder, names)\u001b[0m\n\u001b[1;32m   3637\u001b[0m         return MultiIndex(levels=levels, labels=labels,\n\u001b[1;32m   3638\u001b[0m                           \u001b[0msortorder\u001b[0m\u001b[0;34m=\u001b[0m\u001b[0msortorder\u001b[0m\u001b[0;34m,\u001b[0m \u001b[0mnames\u001b[0m\u001b[0;34m=\u001b[0m\u001b[0mnames\u001b[0m\u001b[0;34m,\u001b[0m\u001b[0;34m\u001b[0m\u001b[0m\n\u001b[0;32m-> 3639\u001b[0;31m                           verify_integrity=False)\n\u001b[0m\u001b[1;32m   3640\u001b[0m \u001b[0;34m\u001b[0m\u001b[0m\n\u001b[1;32m   3641\u001b[0m     \u001b[0;34m@\u001b[0m\u001b[0mclassmethod\u001b[0m\u001b[0;34m\u001b[0m\u001b[0m\n",
      "\u001b[0;32m//anaconda/lib/python2.7/site-packages/pandas/core/index.pyc\u001b[0m in \u001b[0;36m__new__\u001b[0;34m(cls, levels, labels, sortorder, names, copy, verify_integrity, _set_identity, **kwargs)\u001b[0m\n\u001b[1;32m   2912\u001b[0m         \u001b[0;32mif\u001b[0m \u001b[0mnames\u001b[0m \u001b[0;32mis\u001b[0m \u001b[0;32mnot\u001b[0m \u001b[0mNone\u001b[0m\u001b[0;34m:\u001b[0m\u001b[0;34m\u001b[0m\u001b[0m\n\u001b[1;32m   2913\u001b[0m             \u001b[0;31m# handles name validation\u001b[0m\u001b[0;34m\u001b[0m\u001b[0;34m\u001b[0m\u001b[0m\n\u001b[0;32m-> 2914\u001b[0;31m             \u001b[0mresult\u001b[0m\u001b[0;34m.\u001b[0m\u001b[0m_set_names\u001b[0m\u001b[0;34m(\u001b[0m\u001b[0mnames\u001b[0m\u001b[0;34m)\u001b[0m\u001b[0;34m\u001b[0m\u001b[0m\n\u001b[0m\u001b[1;32m   2915\u001b[0m \u001b[0;34m\u001b[0m\u001b[0m\n\u001b[1;32m   2916\u001b[0m         \u001b[0;32mif\u001b[0m \u001b[0msortorder\u001b[0m \u001b[0;32mis\u001b[0m \u001b[0;32mnot\u001b[0m \u001b[0mNone\u001b[0m\u001b[0;34m:\u001b[0m\u001b[0;34m\u001b[0m\u001b[0m\n",
      "\u001b[0;32m//anaconda/lib/python2.7/site-packages/pandas/core/index.pyc\u001b[0m in \u001b[0;36m_set_names\u001b[0;34m(self, names, level, validate)\u001b[0m\n\u001b[1;32m   3272\u001b[0m         \u001b[0;32mif\u001b[0m \u001b[0mvalidate\u001b[0m \u001b[0;32mand\u001b[0m \u001b[0mlevel\u001b[0m \u001b[0;32mis\u001b[0m \u001b[0mNone\u001b[0m \u001b[0;32mand\u001b[0m \u001b[0mlen\u001b[0m\u001b[0;34m(\u001b[0m\u001b[0mnames\u001b[0m\u001b[0;34m)\u001b[0m \u001b[0;34m!=\u001b[0m \u001b[0mself\u001b[0m\u001b[0;34m.\u001b[0m\u001b[0mnlevels\u001b[0m\u001b[0;34m:\u001b[0m\u001b[0;34m\u001b[0m\u001b[0m\n\u001b[1;32m   3273\u001b[0m             raise ValueError(\n\u001b[0;32m-> 3274\u001b[0;31m                 'Length of names must match number of levels in MultiIndex.')\n\u001b[0m\u001b[1;32m   3275\u001b[0m \u001b[0;34m\u001b[0m\u001b[0m\n\u001b[1;32m   3276\u001b[0m         \u001b[0;32mif\u001b[0m \u001b[0mlevel\u001b[0m \u001b[0;32mis\u001b[0m \u001b[0mNone\u001b[0m\u001b[0;34m:\u001b[0m\u001b[0;34m\u001b[0m\u001b[0m\n",
      "\u001b[0;31mValueError\u001b[0m: Length of names must match number of levels in MultiIndex."
     ]
    }
   ],
   "source": [
    "pd.DataFrame({'count': c}, \n",
    "             index=pd.MultiIndex.from_tuples(i, names=('url', 'hour'))).reset_index()"
   ]
  },
  {
   "cell_type": "code",
   "execution_count": null,
   "metadata": {
    "collapsed": true
   },
   "outputs": [],
   "source": []
  }
 ],
 "metadata": {
  "kernelspec": {
   "display_name": "Python 2",
   "language": "python",
   "name": "python2"
  },
  "language_info": {
   "codemirror_mode": {
    "name": "ipython",
    "version": 2
   },
   "file_extension": ".py",
   "mimetype": "text/x-python",
   "name": "python",
   "nbconvert_exporter": "python",
   "pygments_lexer": "ipython2",
   "version": "2.7.10"
  }
 },
 "nbformat": 4,
 "nbformat_minor": 0
}
