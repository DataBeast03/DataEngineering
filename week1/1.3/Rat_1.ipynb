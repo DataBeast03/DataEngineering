{
 "cells": [
  {
   "cell_type": "markdown",
   "metadata": {},
   "source": [
    "## More SQL Practice\n",
    "\n",
    "You have the following log data from a retail company. This is the schema:\n",
    "\n",
    "```\n",
    "log\n",
    "    userid\n",
    "    tmstmp\n",
    "    itemid\n",
    "    event\n",
    "\n",
    "items\n",
    "    itemid\n",
    "    name\n",
    "    category\n",
    "```\n",
    "\n",
    "The possible events are:\n",
    "* `view`: Viewing the details of an item\n",
    "* `add`: Adding the item to shopping cart\n",
    "* `buy`: Buying an item\n",
    "\n",
    "### Write some queries\n",
    "\n",
    "1. Write a SQL query which gets all the users, item pairs where the user added the item to their shopping cart but did not then buy it. If a user bought an item and then added it to their shopping cart, this should be included in your query."
   ]
  },
  {
   "cell_type": "markdown",
   "metadata": {},
   "source": [
    "select log.userid, items.itemid\n",
    "from log\n",
    "inner join items\n",
    "on log.itemid = items.itemid\n",
    "where log.event = 'view' and log.event = 'add' and log.event =! 'buy';"
   ]
  },
  {
   "cell_type": "markdown",
   "metadata": {},
   "source": [
    "    If you're having trouble, try starting with something simpler: Can you get all the user, item pairs where the user first added and then bought the item?\n",
    "\n",
    "2) Write a SQL query which gives the each category and the ratio of purchases to views for items in that category.\n",
    "\n",
    "    To simplify things, try each part of the ratio separately. First count the total views for the category, then count the total items. Can you combine these results?"
   ]
  },
  {
   "cell_type": "markdown",
   "metadata": {},
   "source": []
  },
  {
   "cell_type": "markdown",
   "metadata": {},
   "source": [
    "### Test your queries!\n",
    "In practice you may not have a place to test your queries outside of running them in production. If the database is large, this is very expensive! It will take a while for you to confirm if your query ran correctly and this will use company resources. Furthermore, if you get values back, how do you know they are right? It's good practice to create a dummy database to try out your queries.\n",
    "\n",
    "1. Open postgres on the work stations by opening finder and typing \"postgres\"\n",
    "\n",
    "1. In your terminal, create your database: `CREATE DATABASE retail_log;`\n",
    "\n",
    "2. Open the database: `psql -U postgres retail_log`\n",
    "\n",
    "3. Create the tables:\n",
    "\n",
    "    ```sql\n",
    "    CREATE TABLE log (\n",
    "        userid   int,\n",
    "        tmstmp   timestamp,\n",
    "        itemid   int,\n",
    "        event    varchar(10)\n",
    "    );\n",
    "    ```\n",
    "\n",
    "4. To add the items, you can use `INSERT INTO`. Another method is to create a csv file with the data. Something liks this:\n",
    "\n",
    "    ```\n",
    "    2,2014-09-10 09:10:13,5,view\n",
    "    3,2014-09-10 09:11:13,5,view\n",
    "    2,2014-09-10 09:12:13,5,add\n",
    "    4,2014-09-10 09:13:13,8,view\n",
    "    3,2014-09-10 09:14:13,5,add\n",
    "    4,2014-09-10 09:15:13,8,add\n",
    "    2,2014-09-10 09:16:13,5,buy\n",
    "    4,2014-09-10 09:17:13,8,buy\n",
    "    5,2014-09-10 09:18:13,1,buy\n",
    "    5,2014-09-10 09:19:13,1,add\n",
    "    ```\n",
    "\n",
    "    To get this csv file (say it's called `log.csv`) into your SQL table:\n",
    "\n",
    "    ```sql\n",
    "    COPY log FROM '~/github/recommendation-systems-soln/log.csv' CSV;\n",
    "    ```\n",
    "\n",
    "    Note that you need to use the full path. To get the full path of your current directory from the command line, run `pwd`.\n",
    "\n",
    "5. Repeat the same steps to create an example `items` table so that you can test the second query. Create dummy data so that your queries returns nonempty tables."
   ]
  },
  {
   "cell_type": "code",
   "execution_count": null,
   "metadata": {
    "collapsed": true
   },
   "outputs": [],
   "source": []
  }
 ],
 "metadata": {
  "kernelspec": {
   "display_name": "Python 2",
   "language": "python",
   "name": "python2"
  },
  "language_info": {
   "codemirror_mode": {
    "name": "ipython",
    "version": 2
   },
   "file_extension": ".py",
   "mimetype": "text/x-python",
   "name": "python",
   "nbconvert_exporter": "python",
   "pygments_lexer": "ipython2",
   "version": "2.7.10"
  }
 },
 "nbformat": 4,
 "nbformat_minor": 0
}
