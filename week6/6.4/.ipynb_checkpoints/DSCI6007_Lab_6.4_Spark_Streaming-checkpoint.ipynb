{
 "cells": [
  {
   "cell_type": "markdown",
   "metadata": {},
   "source": [
    "System Monitoring\n",
    "-----------------\n",
    "\n",
    "You have been hired as a data engineer at BigDog, Inc. Their main\n",
    "product monitors system logs to look for various conditions.\n",
    "\n",
    "We are going to create a syslog monitor that will keep track of the\n",
    "number of processes opened and closed across the monitored machines."
   ]
  },
  {
   "cell_type": "markdown",
   "metadata": {},
   "source": [
    "Syslog Processing\n",
    "-----------------\n",
    "\n",
    "- Create a process that will publish the system log to port 9999 and\n",
    "  save it to `sys-watcher.sh`.\n",
    "\n",
    "```sh\n",
    "#!/bin/sh\n",
    "\n",
    "LINUX_SYSLOG=/var/log/syslog\n",
    "MAC_SYSLOG=/var/log/system.log\n",
    "SYSLOG=$MAC_SYSLOG;\n",
    "\n",
    "tail -F $SYSLOG | nc -lk 9999\n",
    "```\n",
    "\n",
    "- Modify this code to point to the right location for your syslog.\n",
    "\n",
    "- Use Spark Streaming to listen to the lines of text on that port.\n",
    "\n",
    "- In each batch count how many processes have started and stopped in\n",
    "  that batch.\n",
    "\n",
    "- Here is what process start and stop syslog lines look like on a Mac.\n",
    "\n",
    "```text\n",
    "        Aug 14 08:49:41 host1234 login[70321]: USER_PROCESS: 70321 ttys005\n",
    "        Aug 14 08:49:42 host1234 login[70325]: USER_PROCESS: 70325 ttys006\n",
    "        Aug 14 08:49:43 host1234 login[70329]: USER_PROCESS: 70329 ttys007\n",
    "        Aug 14 08:49:44 host1234 login[70325]: DEAD_PROCESS: 70325 ttys006\n",
    "        Aug 14 08:49:44 host1234 login[70329]: DEAD_PROCESS: 70329 ttys007\n",
    "        Aug 14 08:49:45 host1234 login[70321]: DEAD_PROCESS: 70321 ttys005\n",
    "```\n",
    " \n",
    "- Verify what they look like on your system and then write a Spark\n",
    "  Streaming application to capture and process these lines.\n",
    "\n",
    "- Use a batch duration of 10 seconds. Write out the number of\n",
    "  processes that are starting and stopping in each batch.\n",
    "\n",
    "- Write the output to `proc-stats` directory.\n",
    "\n",
    "- For testing you may use `pprint` to print it to stdout.\n",
    "\n",
    "- The output should look like this:\n",
    "\n",
    "```text\n",
    "Started: 33\n",
    "Stopped: 11\n",
    "```"
   ]
  },
  {
   "cell_type": "markdown",
   "metadata": {},
   "source": [
    "Challenge: Windows\n",
    "------------------\n",
    "\n",
    "- Create a window with window duration of 1 minute, and a slide\n",
    "  duration of 20 seconds, and use that to determine how many processes\n",
    "  are starting and stopping within a window."
   ]
  },
  {
   "cell_type": "markdown",
   "metadata": {},
   "source": [
    "Challenge: Preserving State\n",
    "---------------------------\n",
    "\n",
    "- Calculate the number of processes running by keeping track of the\n",
    "  number of processes starting and stopping (do not make any system\n",
    "  calls).\n",
    "\n",
    "- Using the time series above calculate the mean and standard\n",
    "  deviation of the number of running processes.\n",
    "\n",
    "- Raise an alert if the number of running processes exceeds twice the\n",
    "  standard deviation.\n",
    "\n",
    "- Raise the alert by printing out a warning message."
   ]
  }
 ],
 "metadata": {
  "kernelspec": {
   "display_name": "Python 2",
   "language": "python",
   "name": "python2"
  },
  "language_info": {
   "codemirror_mode": {
    "name": "ipython",
    "version": 2
   },
   "file_extension": ".py",
   "mimetype": "text/x-python",
   "name": "python",
   "nbconvert_exporter": "python",
   "pygments_lexer": "ipython2",
   "version": "2.7.10"
  }
 },
 "nbformat": 4,
 "nbformat_minor": 0
}
