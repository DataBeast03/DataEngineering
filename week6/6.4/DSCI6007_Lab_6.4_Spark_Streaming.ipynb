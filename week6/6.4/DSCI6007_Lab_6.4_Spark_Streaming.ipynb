{
 "cells": [
  {
   "cell_type": "markdown",
   "metadata": {},
   "source": [
    "System Monitoring\n",
    "-----------------\n",
    "\n",
    "You have been hired as a data engineer at BigDog, Inc. Their main\n",
    "product monitors system logs to look for various conditions.\n",
    "\n",
    "We are going to create a syslog monitor that will keep track of the\n",
    "number of processes opened and closed across the monitored machines."
   ]
  },
  {
   "cell_type": "markdown",
   "metadata": {},
   "source": [
    "Syslog Processing\n",
    "-----------------\n",
    "\n",
    "- Create a process that will publish the system log to port 9999 and\n",
    "  save it to `sys-watcher.sh`."
   ]
  },
  {
   "cell_type": "markdown",
   "metadata": {},
   "source": [
    "```sh\n",
    "#!/bin/sh\n",
    "\n",
    "LINUX_SYSLOG=/var/log/syslog\n",
    "MAC_SYSLOG=/var/log/system.log\n",
    "SYSLOG=$MAC_SYSLOG;\n",
    "\n",
    "tail -F $SYSLOG | nc -lk 9999\n",
    "```"
   ]
  },
  {
   "cell_type": "code",
   "execution_count": 4,
   "metadata": {
    "collapsed": false
   },
   "outputs": [],
   "source": [
    "MAC_SYSLOG=/var/log/system.log\n",
    "SYSLOG=$MAC_SYSLOG;\n",
    "tail -F $SYSLOG | nc -lk 9999"
   ]
  },
  {
   "cell_type": "code",
   "execution_count": 1,
   "metadata": {
    "collapsed": false
   },
   "outputs": [],
   "source": [
    "from pyspark import SparkContext\n",
    "from pyspark.streaming import StreamingContext"
   ]
  },
  {
   "cell_type": "code",
   "execution_count": 2,
   "metadata": {
    "collapsed": true
   },
   "outputs": [],
   "source": [
    "ssc = StreamingContext"
   ]
  },
  {
   "cell_type": "code",
   "execution_count": 9,
   "metadata": {
    "collapsed": false
   },
   "outputs": [],
   "source": [
    "\tdef updateFunction(newValues, runningCount):\n",
    "\t    if runningCount is None:\n",
    "\t        runningCount = 0\n",
    "\t    return sum(newValues, runningCount)  # add the new values with the previous running count to get the new count\n",
    "\n",
    "\tdef check_process(line):\n",
    "\t    if \"DEAD_PROCESS:\" in line:\n",
    "\t        return \"PROCESS STARTED\"\n",
    "\t    if \"USER_PROCESS:\"  in line:\n",
    "\t        return \"PROCESS ENDED\" \n",
    "\n",
    "\n",
    "\t# Create StreamingContext with 2 threads, and batch interval of 1 second\n",
    "\t#sc = SparkContext(\"local[2]\", appName=\"ProcessTracker\")\n",
    "\tssc = StreamingContext(sc, 2) # change batch duration to 10 sec for offical answer \n",
    "\tssc.checkpoint('ckpt')\n",
    "\n",
    "\t#display = lines.map(check_process) # to display output directly\n",
    "\tds = ssc.socketTextStream(\"localhost\", 9999)\\\n",
    "\t        .map(lambda line: check_process(line))\\\n",
    "\t        .map(lambda process: (process,1))\n",
    "\t        .updateStateByKey(updateFunction)\n",
    "\n",
    "\tds.pprint()\n",
    "\tds.count().pprint()"
   ]
  },
  {
   "cell_type": "code",
   "execution_count": 9,
   "metadata": {
    "collapsed": true
   },
   "outputs": [],
   "source": [
    "\tdef check_process(line):\n",
    "\t    if \"DEAD_PROCESS:\" in line:\n",
    "\t        return \"DEAD_PROCESS\"\n",
    "\t    if \"USER_PROCESS:\"  in line:\n",
    "\t        return \"USER_PROCESS\" "
   ]
  },
  {
   "cell_type": "markdown",
   "metadata": {},
   "source": [
    "- Modify this code to point to the right location for your syslog.\n",
    "\n",
    "- Use Spark Streaming to listen to the lines of text on that port.\n",
    "\n",
    "- In each batch count how many processes have started and stopped in\n",
    "  that batch.\n",
    "\n",
    "- Here is what process start and stop syslog lines look like on a Mac.\n",
    "\n",
    "```text\n",
    "        Aug 14 08:49:41 host1234 login[70321]: USER_PROCESS: 70321 ttys005\n",
    "        Aug 14 08:49:42 host1234 login[70325]: USER_PROCESS: 70325 ttys006\n",
    "        Aug 14 08:49:43 host1234 login[70329]: USER_PROCESS: 70329 ttys007\n",
    "        Aug 14 08:49:44 host1234 login[70325]: DEAD_PROCESS: 70325 ttys006\n",
    "        Aug 14 08:49:44 host1234 login[70329]: DEAD_PROCESS: 70329 ttys007\n",
    "        Aug 14 08:49:45 host1234 login[70321]: DEAD_PROCESS: 70321 ttys005\n",
    "```\n",
    " \n",
    "- Verify what they look like on your system and then write a Spark\n",
    "  Streaming application to capture and process these lines.\n",
    "\n",
    "- Use a batch duration of 10 seconds. Write out the number of\n",
    "  processes that are starting and stopping in each batch.\n",
    "\n",
    "- Write the output to `proc-stats` directory.\n",
    "\n",
    "- For testing you may use `pprint` to print it to stdout.\n",
    "\n",
    "- The output should look like this:\n",
    "\n",
    "```text\n",
    "Started: 33\n",
    "Stopped: 11\n",
    "```"
   ]
  },
  {
   "cell_type": "markdown",
   "metadata": {},
   "source": [
    "Challenge: Windows\n",
    "------------------\n",
    "\n",
    "- Create a window with window duration of 1 minute, and a slide\n",
    "  duration of 20 seconds, and use that to determine how many processes\n",
    "  are starting and stopping within a window."
   ]
  },
  {
   "cell_type": "markdown",
   "metadata": {},
   "source": [
    "Challenge: Preserving State\n",
    "---------------------------\n",
    "\n",
    "- Calculate the number of processes running by keeping track of the\n",
    "  number of processes starting and stopping (do not make any system\n",
    "  calls).\n",
    "\n",
    "- Using the time series above calculate the mean and standard\n",
    "  deviation of the number of running processes.\n",
    "\n",
    "- Raise an alert if the number of running processes exceeds twice the\n",
    "  standard deviation.\n",
    "\n",
    "- Raise the alert by printing out a warning message."
   ]
  }
 ],
 "metadata": {
  "kernelspec": {
   "display_name": "Python 2",
   "language": "python",
   "name": "python2"
  },
  "language_info": {
   "codemirror_mode": {
    "name": "ipython",
    "version": 2
   },
   "file_extension": ".py",
   "mimetype": "text/x-python",
   "name": "python",
   "nbconvert_exporter": "python",
   "pygments_lexer": "ipython2",
   "version": "2.7.10"
  }
 },
 "nbformat": 4,
 "nbformat_minor": 0
}
