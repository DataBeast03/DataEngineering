{
 "cells": [
  {
   "cell_type": "code",
   "execution_count": 1,
   "metadata": {
    "collapsed": true
   },
   "outputs": [],
   "source": [
    "reset -f -s"
   ]
  },
  {
   "cell_type": "code",
   "execution_count": 2,
   "metadata": {
    "collapsed": false
   },
   "outputs": [
    {
     "name": "stdout",
     "output_type": "stream",
     "text": [
      "Interactive namespace is empty.\n"
     ]
    }
   ],
   "source": [
    "whos"
   ]
  },
  {
   "cell_type": "code",
   "execution_count": 3,
   "metadata": {
    "collapsed": false
   },
   "outputs": [],
   "source": [
    "import json\n",
    "import happybase\n",
    "from os import listdir\n",
    "import shutil"
   ]
  },
  {
   "cell_type": "code",
   "execution_count": 4,
   "metadata": {
    "collapsed": true
   },
   "outputs": [],
   "source": [
    "from data_gen import get_datum\n",
    "import extract_data\n",
    "from pyspark.sql.types import *\n",
    "import pyspark"
   ]
  },
  {
   "cell_type": "markdown",
   "metadata": {},
   "source": [
    "# Speed Layer"
   ]
  },
  {
   "cell_type": "markdown",
   "metadata": {},
   "source": [
    "## HBase Storage"
   ]
  },
  {
   "cell_type": "code",
   "execution_count": 24,
   "metadata": {
    "collapsed": false
   },
   "outputs": [
    {
     "name": "stdout",
     "output_type": "stream",
     "text": [
      "starting master, logging to /Users/Alexander/hbase-1.1.2/bin/../logs/hbase-Alexander-master-Alexanders-MacBook-Pro.local.out\n",
      "starting thrift, logging to /Users/Alexander/hbase-1.1.2/bin/../logs/hbase-Alexander-thrift-Alexanders-MacBook-Pro.local.out\n"
     ]
    }
   ],
   "source": [
    "# Start HBase\n",
    "! /Users/Alexander/hbase-1.1.2/bin/start-hbase.sh\n",
    "# Start thrift server\n",
    "! /Users/Alexander/hbase-1.1.2/bin/hbase-daemon.sh start thrift"
   ]
  },
  {
   "cell_type": "code",
   "execution_count": 23,
   "metadata": {
    "collapsed": false
   },
   "outputs": [
    {
     "name": "stdout",
     "output_type": "stream",
     "text": [
      "stopping hbase.....................\n",
      "stopping thrift.\n"
     ]
    }
   ],
   "source": [
    "# End HBase\n",
    "! /Users/Alexander/hbase-1.1.2/bin/stop-hbase.sh\n",
    "# Start thrift server\n",
    "! /Users/Alexander/hbase-1.1.2/bin/hbase-daemon.sh stop thrift"
   ]
  },
  {
   "cell_type": "code",
   "execution_count": 25,
   "metadata": {
    "collapsed": true
   },
   "outputs": [],
   "source": [
    "connection = happybase.Connection(host = 'localhost')"
   ]
  },
  {
   "cell_type": "code",
   "execution_count": 17,
   "metadata": {
    "collapsed": false
   },
   "outputs": [],
   "source": [
    "# # delete all tables\n",
    "# for name in table_names:\n",
    "#     connection.disable_table(name)\n",
    "#     connection.delete_table(name)"
   ]
  },
  {
   "cell_type": "code",
   "execution_count": 18,
   "metadata": {
    "collapsed": false
   },
   "outputs": [],
   "source": [
    "# family = {\n",
    "#         'd': dict()   \n",
    "# }"
   ]
  },
  {
   "cell_type": "code",
   "execution_count": 19,
   "metadata": {
    "collapsed": false
   },
   "outputs": [],
   "source": [
    "# # Only needs to be run once\n",
    "# connection.create_table('user_name', family)\n",
    "# connection.create_table('gender', family)\n",
    "# connection.create_table('location', family)\n",
    "# connection.create_table('review_edge', family)\n",
    "# connection.create_table('purchase_edge', family)\n",
    "# connection.create_table('item_name', family)"
   ]
  },
  {
   "cell_type": "code",
   "execution_count": 6,
   "metadata": {
    "collapsed": true
   },
   "outputs": [],
   "source": [
    "fact_labels = [\"user_name\",\n",
    "              \"gender\",\n",
    "              \"location\",\n",
    "              \"purchase_edge\",\n",
    "              \"review_edge\",\n",
    "              \"item_name\" ]"
   ]
  },
  {
   "cell_type": "code",
   "execution_count": 5,
   "metadata": {
    "collapsed": false
   },
   "outputs": [],
   "source": [
    "# scan table\n",
    "table = connection.table(\"item_name\")\n",
    "i = 0 \n",
    "for _ in table.scan():\n",
    "    i +=1\n",
    "print i\n",
    "    "
   ]
  },
  {
   "cell_type": "markdown",
   "metadata": {},
   "source": [
    "## Upload data from Hbase into RDD"
   ]
  },
  {
   "cell_type": "code",
   "execution_count": 26,
   "metadata": {
    "collapsed": false
   },
   "outputs": [],
   "source": [
    "def get_userName_data(table):\n",
    "    return [(data[0], data[1][\"d:name\"], data[1][\"d:ts\"]) for data in table.scan()]"
   ]
  },
  {
   "cell_type": "code",
   "execution_count": 27,
   "metadata": {
    "collapsed": true
   },
   "outputs": [],
   "source": [
    "def get_userGender_data(table):\n",
    "    return [(data[0], data[1][\"d:gender\"], data[1][\"d:ts\"]) for data in table.scan()]"
   ]
  },
  {
   "cell_type": "code",
   "execution_count": 28,
   "metadata": {
    "collapsed": true
   },
   "outputs": [],
   "source": [
    "def get_userLocation_data(table):\n",
    "    return [(data[0], data[1][\"d:city\"],data[1][\"d:state\"], data[1][\"d:country\"],data[1][\"d:ts\"]) for data in table.scan()]"
   ]
  },
  {
   "cell_type": "code",
   "execution_count": 29,
   "metadata": {
    "collapsed": false
   },
   "outputs": [],
   "source": [
    "def get_purchaseEdge_data(table):\n",
    "    # userId,itemId,ts\n",
    "    return [(data[0], data[1][\"d:item_id\"], data[1][\"d:ts\"]) for data in table.scan()]"
   ]
  },
  {
   "cell_type": "code",
   "execution_count": 30,
   "metadata": {
    "collapsed": true
   },
   "outputs": [],
   "source": [
    "def get_ratingEdge_data(table):\n",
    "    # userId, itemdid, rating, ts, review\n",
    "    return [(data[0], data[1][\"d:item_id\"], data[1][\"d:rating\"], data[1][\"d:ts\"], data[1][\"d:review\"]) for data in table.scan()]"
   ]
  },
  {
   "cell_type": "code",
   "execution_count": 31,
   "metadata": {
    "collapsed": true
   },
   "outputs": [],
   "source": [
    "def get_itemName_data(table):\n",
    "    # userId, itemdid, rating, ts, review\n",
    "    return [(data[0], data[1][\"d:name\"], data[1][\"d:ts\"],) for data in table.scan()]"
   ]
  },
  {
   "cell_type": "code",
   "execution_count": 77,
   "metadata": {
    "collapsed": false
   },
   "outputs": [],
   "source": [
    "fact_labels =  connection.tables()"
   ]
  },
  {
   "cell_type": "markdown",
   "metadata": {},
   "source": [
    "### Transfer Data from Hbase to Spark RDDs"
   ]
  },
  {
   "cell_type": "code",
   "execution_count": 4,
   "metadata": {
    "collapsed": false
   },
   "outputs": [],
   "source": [
    "#create spark and sparksql contexts\n",
    "sc = pyspark.SparkContext()\n",
    "sqlContext = pyspark.HiveContext(sc)"
   ]
  },
  {
   "cell_type": "code",
   "execution_count": 34,
   "metadata": {
    "collapsed": true
   },
   "outputs": [],
   "source": [
    "def get_current_property(values):\n",
    "    '''scans property time stampts and selects the most current property '''\n",
    "    timestamp = -1\n",
    "    timestamps = dict()\n",
    "    \n",
    "    for prop in values:\n",
    "        timestamps[prop[timestamp]]=prop[:timestamp]\n",
    "    max_ts = max(timestamps.keys())\n",
    "    \n",
    "    if len(timestamps[max_ts]) == 1:\n",
    "        return (timestamps[max_ts][0],max_ts)\n",
    "    elif len(timestamps[max_ts]) == 2:\n",
    "        return (timestamps[max_ts][0],timestamps[max_ts][1],max_ts)\n",
    "    else:\n",
    "        return (timestamps[max_ts][0],timestamps[max_ts][1],timestamps[max_ts][2],max_ts)"
   ]
  },
  {
   "cell_type": "code",
   "execution_count": 98,
   "metadata": {
    "collapsed": true
   },
   "outputs": [],
   "source": [
    "    schema_gender = StructType( [\n",
    "    StructField('user_id',StringType(),True),\n",
    "    StructField('gender',StringType(),True),\n",
    "    StructField('timestamp',StringType(),True),] )\n",
    "\n",
    "    schema_location = StructType( [\n",
    "    StructField('user_id',StringType(),True),\n",
    "    StructField('city',StringType(),True),\n",
    "    StructField('state',StringType(),True),\n",
    "    StructField('country',StringType(),True),\n",
    "    StructField('timestamp',StringType(),True),] )\n",
    "\n",
    "    schema_name = StructType( [\n",
    "    StructField('user_id',StringType(),True),\n",
    "    StructField('name',StringType(),True),\n",
    "    StructField('timestamp',StringType(),True),] )\n",
    "\n",
    "    schema_review = StructType( [\n",
    "    StructField('user_id',StringType(),True),\n",
    "    StructField('item_id',StringType(),True),\n",
    "    StructField('rating',StringType(),True),\n",
    "    StructField('timestamp',StringType(),True),\n",
    "    StructField('review',StringType(),True)] )\n",
    "\n",
    "    schema_item_name = StructType( [\n",
    "    StructField('item_id',StringType(),True),\n",
    "    StructField('name',StringType(),True),\n",
    "    StructField('timestamp',StringType(),True)] )\n",
    "\n",
    "    schema_purchase = StructType( [\n",
    "    StructField('user_id',StringType(),True),\n",
    "    StructField('item_id',StringType(),True),\n",
    "    StructField('timestamp',StringType(),True)] )"
   ]
  },
  {
   "cell_type": "code",
   "execution_count": 36,
   "metadata": {
    "collapsed": true
   },
   "outputs": [],
   "source": [
    "def get_names():  \n",
    "    table = connection.table(\"user_name\")\n",
    "    user_name = sc.parallelize(get_userName_data(table))\n",
    "\n",
    "    normalized_names = user_name.map(lambda (user_id, name, ts): (user_id, (name, ts)))\\\n",
    "                            .groupByKey()\\\n",
    "                            .mapValues(lambda line: get_current_property(line))\\\n",
    "                            .map(lambda line: (line[0], line[1][0], line[1][1]))\n",
    "    return normalized_names"
   ]
  },
  {
   "cell_type": "code",
   "execution_count": 37,
   "metadata": {
    "collapsed": true
   },
   "outputs": [],
   "source": [
    "def get_genders():\n",
    "    table = connection.table(\"gender\")\n",
    "    gender = sc.parallelize(get_userGender_data(table))\n",
    "\n",
    "    normalized_genders = gender.map(lambda ( user_id, gender, ts): ( user_id, (gender, ts)))\\\n",
    "                                .groupByKey()\\\n",
    "                                .mapValues(get_current_property)\\\n",
    "                                .map(lambda line: (line[0], line[1][0],line[1][1]))\n",
    "    return normalized_genders"
   ]
  },
  {
   "cell_type": "code",
   "execution_count": 38,
   "metadata": {
    "collapsed": true
   },
   "outputs": [],
   "source": [
    "def get_locations():\n",
    "    table = connection.table(\"location\")\n",
    "    location = sc.parallelize(get_userLocation_data(table))\n",
    "\n",
    "    normalized_locations = location.map(lambda ( user_id, city,state,country, ts): ( user_id, (city,state,country, ts)))\\\n",
    "                                  .groupByKey()\\\n",
    "                                  .mapValues(get_current_property)\\\n",
    "                                  .map(lambda line: (line[0], line[1][0],line[1][1],line[1][2],line[1][3]))\n",
    "    return normalized_locations"
   ]
  },
  {
   "cell_type": "code",
   "execution_count": 39,
   "metadata": {
    "collapsed": true
   },
   "outputs": [],
   "source": [
    "def get_review_edges():\n",
    "    table = connection.table(\"review_edge\")\n",
    "    review_edge = sc.parallelize(get_ratingEdge_data(table))"
   ]
  },
  {
   "cell_type": "code",
   "execution_count": 40,
   "metadata": {
    "collapsed": true
   },
   "outputs": [],
   "source": [
    "def get_purchase_edges():\n",
    "    table = connection.table(\"purchase_edge\")\n",
    "    purchase_edge = sc.parallelize(get_purchaseEdge_data(table))"
   ]
  },
  {
   "cell_type": "code",
   "execution_count": 41,
   "metadata": {
    "collapsed": true
   },
   "outputs": [],
   "source": [
    "def get_item_names():\n",
    "    table = connection.table(\"item_name\")\n",
    "    item_name = sc.parallelize(get_itemName_data(table))"
   ]
  },
  {
   "cell_type": "markdown",
   "metadata": {},
   "source": [
    "## Run for updated batches"
   ]
  },
  {
   "cell_type": "code",
   "execution_count": 111,
   "metadata": {
    "collapsed": false,
    "scrolled": true
   },
   "outputs": [],
   "source": [
    "names = get_names()\n",
    "genders = get_genders()\n",
    "locations = get_locations()\n",
    "review_edges = get_review_edges()\n",
    "purchase_edge = get_purchase_edges()\n",
    "item_names = get_item_names()"
   ]
  },
  {
   "cell_type": "code",
   "execution_count": 112,
   "metadata": {
    "collapsed": false
   },
   "outputs": [
    {
     "data": {
      "text/plain": [
       "914"
      ]
     },
     "execution_count": 112,
     "metadata": {},
     "output_type": "execute_result"
    }
   ],
   "source": [
    "names.count()"
   ]
  },
  {
   "cell_type": "code",
   "execution_count": 74,
   "metadata": {
    "collapsed": false
   },
   "outputs": [
    {
     "data": {
      "text/plain": [
       "[('136639652273216189_2015_17_53', 'Perry Grace', '1445131894'),\n",
       " ('136639652273185269_2015_17_53', 'Derrick Derk', '1445375857'),\n",
       " ('136639652273111628_2015_17_53', 'Ferne Johnny', '1444956050')]"
      ]
     },
     "execution_count": 74,
     "metadata": {},
     "output_type": "execute_result"
    }
   ],
   "source": [
    "names.take(3)"
   ]
  },
  {
   "cell_type": "code",
   "execution_count": 79,
   "metadata": {
    "collapsed": false
   },
   "outputs": [
    {
     "data": {
      "text/plain": [
       "['gender',\n",
       " 'item_name',\n",
       " 'location',\n",
       " 'purchase_edge',\n",
       " 'review_edge',\n",
       " 'user_name']"
      ]
     },
     "execution_count": 79,
     "metadata": {},
     "output_type": "execute_result"
    }
   ],
   "source": [
    "fact_labels"
   ]
  },
  {
   "cell_type": "code",
   "execution_count": 84,
   "metadata": {
    "collapsed": true
   },
   "outputs": [],
   "source": [
    "fact_labels = ['user_name', 'gender', 'location', 'purchase_edge', 'review_edge','item_name']"
   ]
  },
  {
   "cell_type": "code",
   "execution_count": 90,
   "metadata": {
    "collapsed": false
   },
   "outputs": [],
   "source": [
    "# user_id, gender, ts\n",
    "gender = sqlContext.createDataFrame(genders, schema_gender)"
   ]
  },
  {
   "cell_type": "code",
   "execution_count": 91,
   "metadata": {
    "collapsed": false
   },
   "outputs": [],
   "source": [
    "# user_id, city,state,country, ts\n",
    "location = sqlContext.createDataFrame(locations, schema_location)"
   ]
  },
  {
   "cell_type": "code",
   "execution_count": 94,
   "metadata": {
    "collapsed": false
   },
   "outputs": [],
   "source": [
    "# ID, name, ts\n",
    "userName = sqlContext.createDataFrame(user_name, schema_name)"
   ]
  },
  {
   "cell_type": "code",
   "execution_count": 95,
   "metadata": {
    "collapsed": false
   },
   "outputs": [],
   "source": [
    "# user_id, item_id, rating, ts, review\n",
    "review = sqlContext.createDataFrame(review_edge, schema_review)"
   ]
  },
  {
   "cell_type": "code",
   "execution_count": 96,
   "metadata": {
    "collapsed": false
   },
   "outputs": [],
   "source": [
    "# ID, name, ts\n",
    "itemName = sqlContext.createDataFrame(item_name, schema_item_name)"
   ]
  },
  {
   "cell_type": "code",
   "execution_count": 3,
   "metadata": {
    "collapsed": false
   },
   "outputs": [],
   "source": [
    "# user, item,true_as_of_secs \n",
    "purchase = sqlContext.createDataFrame(purchase_edge, schema_purchase)"
   ]
  },
  {
   "cell_type": "code",
   "execution_count": 100,
   "metadata": {
    "collapsed": true
   },
   "outputs": [],
   "source": [
    "gender.registerTempTable(\"gender\")"
   ]
  },
  {
   "cell_type": "code",
   "execution_count": 101,
   "metadata": {
    "collapsed": true
   },
   "outputs": [],
   "source": [
    "location.registerTempTable(\"location\")"
   ]
  },
  {
   "cell_type": "code",
   "execution_count": 102,
   "metadata": {
    "collapsed": true
   },
   "outputs": [],
   "source": [
    "userName.registerTempTable(\"user_name\")"
   ]
  },
  {
   "cell_type": "code",
   "execution_count": 103,
   "metadata": {
    "collapsed": true
   },
   "outputs": [],
   "source": [
    "review.registerTempTable(\"review\")"
   ]
  },
  {
   "cell_type": "code",
   "execution_count": 104,
   "metadata": {
    "collapsed": true
   },
   "outputs": [],
   "source": [
    "itemName.registerTempTable(\"item_name\")"
   ]
  },
  {
   "cell_type": "code",
   "execution_count": 101,
   "metadata": {
    "collapsed": true
   },
   "outputs": [],
   "source": [
    "purchase.registerTempTable(\"purchase\")"
   ]
  },
  {
   "cell_type": "code",
   "execution_count": 106,
   "metadata": {
    "collapsed": false
   },
   "outputs": [
    {
     "name": "stdout",
     "output_type": "stream",
     "text": [
      "+-----------------+------+--------------+---------+-------+\n",
      "|             name|gender|          city|    state|country|\n",
      "+-----------------+------+--------------+---------+-------+\n",
      "|    Zulema Torrey|  MALE|          null|     null|   null|\n",
      "|   Zsazsa Heloise|  null|         44040|     Ohio|    USA|\n",
      "|    Zonda Sigfrid|  MALE|          null|     null|   null|\n",
      "|   Zitella Briana|  MALE|         63951| Missouri|    USA|\n",
      "|       Zenia Lena|  MALE|         77624|    Texas|    USA|\n",
      "|   Zahara Cherice|  null|   Grangeville|    Idaho|    USA|\n",
      "|      Zack Deanne|FEMALE|          null|     null|   null|\n",
      "|       Zack Arlyn|  null|         37338|Tennessee|    USA|\n",
      "|        Yves Elna|  null|          null|     null|   null|\n",
      "| Yovonnda Emeline|  null|         52630|     Iowa|    USA|\n",
      "|    Yolane Traver|FEMALE|         85614|  Arizona|    USA|\n",
      "|       Yoko Mayer|  null|          null|     null|   null|\n",
      "|       Yard Dylan|  MALE|   Yuma County|  Arizona|    USA|\n",
      "|  Yance Georgiana|  null|          null|     null|   null|\n",
      "|       Yacov Abbi|  null|          null|     null|   null|\n",
      "|    Ximenez Jimmy|FEMALE|         12594| New York|    USA|\n",
      "|Xever Jean-Pierre|FEMALE|Roslyn Heights| New York|    USA|\n",
      "|       Wyn Hermon|  MALE|          null|     null|   null|\n",
      "| Winifred Camille|  MALE|         32182|  Florida|    USA|\n",
      "|     Wilone Nitin|FEMALE|          null|     null|   null|\n",
      "+-----------------+------+--------------+---------+-------+\n",
      "\n"
     ]
    }
   ],
   "source": [
    "sqlContext.sql(\"\"\"SELECT user_name.name, gender.gender, location.city,location.state,location.country\n",
    "                  FROM user_name\n",
    "                  FULL OUTER JOIN gender\n",
    "                  ON user_name.user_id = gender.user_id\n",
    "                  FULL OUTER JOIN location\n",
    "                  ON user_name.user_id = location.user_id\n",
    "                  ORDER BY user_name.name\n",
    "                  desc\n",
    "                  \"\"\").show()"
   ]
  },
  {
   "cell_type": "code",
   "execution_count": 1,
   "metadata": {
    "collapsed": false,
    "scrolled": true
   },
   "outputs": [],
   "source": [
    "sqlContext.sql(\"\"\"SELECT location.country,location.state, location.city, \n",
    "                  COUNT (distinct location.user_id) AS users,\n",
    "                  COUNT(purchase.item_id) AS purchases\n",
    "                  FROM location\n",
    "                  LEFT JOIN purchase\n",
    "                  ON location.user_id = purchase.user_id\n",
    "                  GROUP by location.country, location.state, location.city\n",
    "                  ORDER BY location.state\n",
    "                  \"\"\").show()"
   ]
  }
 ],
 "metadata": {
  "kernelspec": {
   "display_name": "Python 2",
   "language": "python",
   "name": "python2"
  },
  "language_info": {
   "codemirror_mode": {
    "name": "ipython",
    "version": 2
   },
   "file_extension": ".py",
   "mimetype": "text/x-python",
   "name": "python",
   "nbconvert_exporter": "python",
   "pygments_lexer": "ipython2",
   "version": "2.7.11"
  }
 },
 "nbformat": 4,
 "nbformat_minor": 0
}
