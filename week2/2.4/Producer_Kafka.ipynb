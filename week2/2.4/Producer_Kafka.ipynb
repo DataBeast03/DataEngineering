{
 "cells": [
  {
   "cell_type": "code",
   "execution_count": 7,
   "metadata": {
    "collapsed": true
   },
   "outputs": [],
   "source": [
    "import io, random, threading, logging, time\n",
    "import simplejson as json\n",
    "from data_gen import get_datum\n",
    "\n",
    "from kafka.client   import KafkaClient\n",
    "from kafka.consumer import KafkaConsumer\n",
    "from kafka.producer import SimpleProducer\n",
    "\n",
    "KAFKA_TOPIC = 'amazon-topic'"
   ]
  },
  {
   "cell_type": "code",
   "execution_count": 8,
   "metadata": {
    "collapsed": true
   },
   "outputs": [],
   "source": [
    "# kafka pluin for spark streaming will only accept utf-8\n",
    "# CAN'T SEND BINARY CODE\n",
    "\n",
    "class Producer(threading.Thread):\n",
    "    '''Produces users and publishes them to Kafka topic.'''\n",
    "    daemon = True\n",
    "    def run(self):\n",
    "        # default settings: do not generate new user ids, upload and use existing ides\n",
    "        gen = get_datum()\n",
    "        client = KafkaClient('localhost:9092')\n",
    "        producer = SimpleProducer(client)\n",
    "        \n",
    "        while True:\n",
    "            raw_bytes = json.dumps(gen.next()).encode('utf-8')\n",
    "            producer.send_messages(KAFKA_TOPIC, raw_bytes)\n",
    "            time.sleep(1)"
   ]
  },
  {
   "cell_type": "code",
   "execution_count": 9,
   "metadata": {
    "collapsed": true
   },
   "outputs": [],
   "source": [
    "p= Producer()"
   ]
  },
  {
   "cell_type": "code",
   "execution_count": 10,
   "metadata": {
    "collapsed": false
   },
   "outputs": [
    {
     "name": "stderr",
     "output_type": "stream",
     "text": [
      "ERROR:kafka.conn:Unable to receive data from Kafka\n",
      "Traceback (most recent call last):\n",
      "  File \"//anaconda/lib/python2.7/site-packages/kafka/conn.py\", line 97, in _read_bytes\n",
      "    data = self._sock.recv(min(bytes_left, 4096))\n",
      "error: [Errno 54] Connection reset by peer\n",
      "WARNING:kafka.client:ConnectionError attempting to receive a response to request 3492 from server BrokerMetadata(nodeId=0, host='10.3.35.121', port=9092): Kafka @ 10.3.35.121:9092 went away\n",
      "ERROR:kafka.producer:Unable to send messages\n",
      "Traceback (most recent call last):\n",
      "  File \"//anaconda/lib/python2.7/site-packages/kafka/producer/base.py\", line 390, in _send_messages\n",
      "    fail_on_error=self.sync_fail_on_error\n",
      "  File \"//anaconda/lib/python2.7/site-packages/kafka/client.py\", line 480, in send_produce_request\n",
      "    (not fail_on_error or not self._raise_on_response_error(resp))]\n",
      "  File \"//anaconda/lib/python2.7/site-packages/kafka/client.py\", line 247, in _raise_on_response_error\n",
      "    raise resp\n",
      "FailedPayloadsError\n"
     ]
    },
    {
     "ename": "FailedPayloadsError",
     "evalue": "",
     "output_type": "error",
     "traceback": [
      "\u001b[0;31m---------------------------------------------------------------------------\u001b[0m",
      "\u001b[0;31mFailedPayloadsError\u001b[0m                       Traceback (most recent call last)",
      "\u001b[0;32m<ipython-input-10-76aedfc5f0a9>\u001b[0m in \u001b[0;36m<module>\u001b[0;34m()\u001b[0m\n\u001b[0;32m----> 1\u001b[0;31m \u001b[0mp\u001b[0m\u001b[0;34m.\u001b[0m\u001b[0mrun\u001b[0m\u001b[0;34m(\u001b[0m\u001b[0;34m)\u001b[0m\u001b[0;34m\u001b[0m\u001b[0m\n\u001b[0m",
      "\u001b[0;32m<ipython-input-8-d24a34a81cef>\u001b[0m in \u001b[0;36mrun\u001b[0;34m(self)\u001b[0m\n\u001b[1;32m     13\u001b[0m         \u001b[0;32mwhile\u001b[0m \u001b[0mTrue\u001b[0m\u001b[0;34m:\u001b[0m\u001b[0;34m\u001b[0m\u001b[0m\n\u001b[1;32m     14\u001b[0m             \u001b[0mraw_bytes\u001b[0m \u001b[0;34m=\u001b[0m \u001b[0mjson\u001b[0m\u001b[0;34m.\u001b[0m\u001b[0mdumps\u001b[0m\u001b[0;34m(\u001b[0m\u001b[0mgen\u001b[0m\u001b[0;34m.\u001b[0m\u001b[0mnext\u001b[0m\u001b[0;34m(\u001b[0m\u001b[0;34m)\u001b[0m\u001b[0;34m)\u001b[0m\u001b[0;34m.\u001b[0m\u001b[0mencode\u001b[0m\u001b[0;34m(\u001b[0m\u001b[0;34m'utf-8'\u001b[0m\u001b[0;34m)\u001b[0m\u001b[0;34m\u001b[0m\u001b[0m\n\u001b[0;32m---> 15\u001b[0;31m             \u001b[0mproducer\u001b[0m\u001b[0;34m.\u001b[0m\u001b[0msend_messages\u001b[0m\u001b[0;34m(\u001b[0m\u001b[0mKAFKA_TOPIC\u001b[0m\u001b[0;34m,\u001b[0m \u001b[0mraw_bytes\u001b[0m\u001b[0;34m)\u001b[0m\u001b[0;34m\u001b[0m\u001b[0m\n\u001b[0m\u001b[1;32m     16\u001b[0m             \u001b[0mtime\u001b[0m\u001b[0;34m.\u001b[0m\u001b[0msleep\u001b[0m\u001b[0;34m(\u001b[0m\u001b[0;36m1\u001b[0m\u001b[0;34m)\u001b[0m\u001b[0;34m\u001b[0m\u001b[0m\n",
      "\u001b[0;32m//anaconda/lib/python2.7/site-packages/kafka/producer/simple.pyc\u001b[0m in \u001b[0;36msend_messages\u001b[0;34m(self, topic, *msg)\u001b[0m\n\u001b[1;32m     52\u001b[0m         \u001b[0mpartition\u001b[0m \u001b[0;34m=\u001b[0m \u001b[0mself\u001b[0m\u001b[0;34m.\u001b[0m\u001b[0m_next_partition\u001b[0m\u001b[0;34m(\u001b[0m\u001b[0mtopic\u001b[0m\u001b[0;34m)\u001b[0m\u001b[0;34m\u001b[0m\u001b[0m\n\u001b[1;32m     53\u001b[0m         return super(SimpleProducer, self).send_messages(\n\u001b[0;32m---> 54\u001b[0;31m             \u001b[0mtopic\u001b[0m\u001b[0;34m,\u001b[0m \u001b[0mpartition\u001b[0m\u001b[0;34m,\u001b[0m \u001b[0;34m*\u001b[0m\u001b[0mmsg\u001b[0m\u001b[0;34m\u001b[0m\u001b[0m\n\u001b[0m\u001b[1;32m     55\u001b[0m         )\n\u001b[1;32m     56\u001b[0m \u001b[0;34m\u001b[0m\u001b[0m\n",
      "\u001b[0;32m//anaconda/lib/python2.7/site-packages/kafka/producer/base.pyc\u001b[0m in \u001b[0;36msend_messages\u001b[0;34m(self, topic, partition, *msg)\u001b[0m\n\u001b[1;32m    347\u001b[0m         \"\"\"\n\u001b[1;32m    348\u001b[0m         \u001b[0mtopic\u001b[0m \u001b[0;34m=\u001b[0m \u001b[0mkafka_bytestring\u001b[0m\u001b[0;34m(\u001b[0m\u001b[0mtopic\u001b[0m\u001b[0;34m)\u001b[0m\u001b[0;34m\u001b[0m\u001b[0m\n\u001b[0;32m--> 349\u001b[0;31m         \u001b[0;32mreturn\u001b[0m \u001b[0mself\u001b[0m\u001b[0;34m.\u001b[0m\u001b[0m_send_messages\u001b[0m\u001b[0;34m(\u001b[0m\u001b[0mtopic\u001b[0m\u001b[0;34m,\u001b[0m \u001b[0mpartition\u001b[0m\u001b[0;34m,\u001b[0m \u001b[0;34m*\u001b[0m\u001b[0mmsg\u001b[0m\u001b[0;34m)\u001b[0m\u001b[0;34m\u001b[0m\u001b[0m\n\u001b[0m\u001b[1;32m    350\u001b[0m \u001b[0;34m\u001b[0m\u001b[0m\n\u001b[1;32m    351\u001b[0m     \u001b[0;32mdef\u001b[0m \u001b[0m_send_messages\u001b[0m\u001b[0;34m(\u001b[0m\u001b[0mself\u001b[0m\u001b[0;34m,\u001b[0m \u001b[0mtopic\u001b[0m\u001b[0;34m,\u001b[0m \u001b[0mpartition\u001b[0m\u001b[0;34m,\u001b[0m \u001b[0;34m*\u001b[0m\u001b[0mmsg\u001b[0m\u001b[0;34m,\u001b[0m \u001b[0;34m**\u001b[0m\u001b[0mkwargs\u001b[0m\u001b[0;34m)\u001b[0m\u001b[0;34m:\u001b[0m\u001b[0;34m\u001b[0m\u001b[0m\n",
      "\u001b[0;32m//anaconda/lib/python2.7/site-packages/kafka/producer/base.pyc\u001b[0m in \u001b[0;36m_send_messages\u001b[0;34m(self, topic, partition, *msg, **kwargs)\u001b[0m\n\u001b[1;32m    388\u001b[0m                 resp = self.client.send_produce_request(\n\u001b[1;32m    389\u001b[0m                     \u001b[0;34m[\u001b[0m\u001b[0mreq\u001b[0m\u001b[0;34m]\u001b[0m\u001b[0;34m,\u001b[0m \u001b[0macks\u001b[0m\u001b[0;34m=\u001b[0m\u001b[0mself\u001b[0m\u001b[0;34m.\u001b[0m\u001b[0mreq_acks\u001b[0m\u001b[0;34m,\u001b[0m \u001b[0mtimeout\u001b[0m\u001b[0;34m=\u001b[0m\u001b[0mself\u001b[0m\u001b[0;34m.\u001b[0m\u001b[0mack_timeout\u001b[0m\u001b[0;34m,\u001b[0m\u001b[0;34m\u001b[0m\u001b[0m\n\u001b[0;32m--> 390\u001b[0;31m                     \u001b[0mfail_on_error\u001b[0m\u001b[0;34m=\u001b[0m\u001b[0mself\u001b[0m\u001b[0;34m.\u001b[0m\u001b[0msync_fail_on_error\u001b[0m\u001b[0;34m\u001b[0m\u001b[0m\n\u001b[0m\u001b[1;32m    391\u001b[0m                 )\n\u001b[1;32m    392\u001b[0m             \u001b[0;32mexcept\u001b[0m \u001b[0mException\u001b[0m\u001b[0;34m:\u001b[0m\u001b[0;34m\u001b[0m\u001b[0m\n",
      "\u001b[0;32m//anaconda/lib/python2.7/site-packages/kafka/client.pyc\u001b[0m in \u001b[0;36msend_produce_request\u001b[0;34m(self, payloads, acks, timeout, fail_on_error, callback)\u001b[0m\n\u001b[1;32m    478\u001b[0m         return [resp if not callback else callback(resp) for resp in resps\n\u001b[1;32m    479\u001b[0m                 \u001b[0;32mif\u001b[0m \u001b[0mresp\u001b[0m \u001b[0;32mis\u001b[0m \u001b[0;32mnot\u001b[0m \u001b[0mNone\u001b[0m \u001b[0;32mand\u001b[0m\u001b[0;34m\u001b[0m\u001b[0m\n\u001b[0;32m--> 480\u001b[0;31m                 (not fail_on_error or not self._raise_on_response_error(resp))]\n\u001b[0m\u001b[1;32m    481\u001b[0m \u001b[0;34m\u001b[0m\u001b[0m\n\u001b[1;32m    482\u001b[0m     def send_fetch_request(self, payloads=[], fail_on_error=True,\n",
      "\u001b[0;32m//anaconda/lib/python2.7/site-packages/kafka/client.pyc\u001b[0m in \u001b[0;36m_raise_on_response_error\u001b[0;34m(self, resp)\u001b[0m\n\u001b[1;32m    245\u001b[0m         \u001b[0;31m# Response can be an unraised exception object (FailedPayloadsError)\u001b[0m\u001b[0;34m\u001b[0m\u001b[0;34m\u001b[0m\u001b[0m\n\u001b[1;32m    246\u001b[0m         \u001b[0;32mif\u001b[0m \u001b[0misinstance\u001b[0m\u001b[0;34m(\u001b[0m\u001b[0mresp\u001b[0m\u001b[0;34m,\u001b[0m \u001b[0mException\u001b[0m\u001b[0;34m)\u001b[0m\u001b[0;34m:\u001b[0m\u001b[0;34m\u001b[0m\u001b[0m\n\u001b[0;32m--> 247\u001b[0;31m             \u001b[0;32mraise\u001b[0m \u001b[0mresp\u001b[0m\u001b[0;34m\u001b[0m\u001b[0m\n\u001b[0m\u001b[1;32m    248\u001b[0m \u001b[0;34m\u001b[0m\u001b[0m\n\u001b[1;32m    249\u001b[0m         \u001b[0;31m# Or a server api error response\u001b[0m\u001b[0;34m\u001b[0m\u001b[0;34m\u001b[0m\u001b[0m\n",
      "\u001b[0;31mFailedPayloadsError\u001b[0m: "
     ]
    }
   ],
   "source": [
    "p.run()\n"
   ]
  },
  {
   "cell_type": "code",
   "execution_count": null,
   "metadata": {
    "collapsed": true
   },
   "outputs": [],
   "source": []
  }
 ],
 "metadata": {
  "kernelspec": {
   "display_name": "Python 2",
   "language": "python",
   "name": "python2"
  },
  "language_info": {
   "codemirror_mode": {
    "name": "ipython",
    "version": 2
   },
   "file_extension": ".py",
   "mimetype": "text/x-python",
   "name": "python",
   "nbconvert_exporter": "python",
   "pygments_lexer": "ipython2",
   "version": "2.7.10"
  }
 },
 "nbformat": 4,
 "nbformat_minor": 0
}
