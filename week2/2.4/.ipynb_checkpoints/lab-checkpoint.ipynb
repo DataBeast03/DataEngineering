{
 "cells": [
  {
   "cell_type": "markdown",
   "metadata": {},
   "source": [
    "Lab\n",
    "===\n",
    "In Pairs\n",
    "------------\n",
    "### 1. Work through the getting started guide at http://avro.apache.org/docs/current/gettingstartedpython.html"
   ]
  },
  {
   "cell_type": "code",
   "execution_count": 1,
   "metadata": {
    "collapsed": true
   },
   "outputs": [],
   "source": [
    "import numpy as np\n",
    "import pandas as pd\n",
    "import json\n",
    "import avro.io\n",
    "import avro.schema\n",
    "from avro.datafile import DataFileReader, DataFileWriter\n",
    "from avro.io import DatumReader, DatumWriter"
   ]
  },
  {
   "cell_type": "markdown",
   "metadata": {
    "collapsed": true
   },
   "source": [
    "### 2. Generate sample data\n",
    "Consider the following data:"
   ]
  },
  {
   "cell_type": "code",
   "execution_count": 2,
   "metadata": {
    "collapsed": true
   },
   "outputs": [],
   "source": [
    "data = [{'pedigree': {'true_as_of_secs': 1234567890},\n",
    "           'dataunit': {'page_property': {'id': {'url': 'http://mysite.com/'},\n",
    "                                    'property': {'page_views': 1}}},\n",
    "           },\n",
    "        {\"pedigree\": {\"true_as_of_secs\": 1234567891},\n",
    "           \"dataunit\": {\"equiv\": {\"id1\": {\"cookie\": \"ABCDE\"},\n",
    "                                  \"id2\": {\"user_id\": 123}}},\n",
    "           },\n",
    "        {\"pedigree\": {\"true_as_of_secs\": 1234567892},\n",
    "           \"dataunit\": {\"page_view\": {\"person\": {\"cookie\": \"ABCDE\"},\n",
    "                                      \"page\": {\"url\": \"http://mysite.com/\"},\n",
    "                                      \"nonce\": 1234567890987654321}}\n",
    "           },\n",
    "        {\"pedigree\": {'true_as_of_secs': 1234567893},\n",
    "           \"dataunit\": {\"person_property\": {\"id\": {\"cookie\": \"ABCDE\"},\n",
    "                                            \"property\": {\"full_name\": \"Alessandro\"}}}\n",
    "           },\n",
    "        {\"pedigree\": {'true_as_of_secs': 1234567894},\n",
    "           \"dataunit\": {\"person_property\": {\"id\": {\"user_id\": 123},\n",
    "                                            \"property\": {\"gender\": \"MALE\"}}}\n",
    "           },\n",
    "        {\"pedigree\": {'true_as_of_secs': 1234567895},\n",
    "           \"dataunit\": {\"person_property\": {\"id\": {\"user_id\": 123},\n",
    "                                            \"property\": {\"location\": {\"city\" : \"San Francisco\", \n",
    "                                                                      \"state\": \"CA\"}}}}\n",
    "           }]"
   ]
  },
  {
   "cell_type": "code",
   "execution_count": 3,
   "metadata": {
    "collapsed": false
   },
   "outputs": [
    {
     "data": {
      "text/plain": [
       "1442704601.405036"
      ]
     },
     "execution_count": 3,
     "metadata": {},
     "output_type": "execute_result"
    }
   ],
   "source": [
    "from time import time\n",
    "\n",
    "time()"
   ]
  },
  {
   "cell_type": "code",
   "execution_count": 4,
   "metadata": {
    "collapsed": false
   },
   "outputs": [],
   "source": [
    "from time import time\n",
    "\n",
    "def gen_cookie():  \n",
    "    cookie = 987654321\n",
    "    while True:\n",
    "        yield str(cookie)\n",
    "        cookie +=1        \n",
    "        \n",
    "\n",
    "def firstn(n):\n",
    "    num = 0\n",
    "    cookie = gen_cookie()\n",
    "    while num < n:\n",
    "        yield [{'pedigree': {'true_as_of_secs': int(time())},\n",
    "           'dataunit': {'page_property': {'id': {'url': 'http://mysite.com/'},\n",
    "                                    'property': {'page_views': 1}}},\n",
    "               },\n",
    "            {\"pedigree\": {\"true_as_of_secs\": int(time())},\n",
    "               \"dataunit\": {\"equiv\": {\"id1\": {\"cookie\": cookie.next()},\n",
    "                                      \"id2\": {\"user_id\": 123}}},\n",
    "               },\n",
    "            {\"pedigree\": {\"true_as_of_secs\": int(time())},\n",
    "               \"dataunit\": {\"page_view\": {\"person\": {\"cookie\": cookie.next()},\n",
    "                                          \"page\": {\"url\": \"http://mysite.com/\"},\n",
    "                                          \"nonce\": 1234567890987654321}}\n",
    "               },\n",
    "            {\"pedigree\": {'true_as_of_secs': int(time())},\n",
    "               \"dataunit\": {\"person_property\": {\"id\": {\"cookie\": cookie.next()},\n",
    "                                                \"property\": {\"full_name\": \"Alessandro\"}}}\n",
    "               },\n",
    "            {\"pedigree\": {'true_as_of_secs': int(time())},\n",
    "               \"dataunit\": {\"person_property\": {\"id\": {\"user_id\": 123},\n",
    "                                                \"property\": {\"gender\": \"MALE\"}}}\n",
    "               },\n",
    "            {\"pedigree\": {'true_as_of_secs': int(time())},\n",
    "               \"dataunit\": {\"person_property\": {\"id\": {\"user_id\": 123},\n",
    "                                                \"property\": {\"location\": {\"city\" : \"San Francisco\", \n",
    "                                                                          \"state\": \"CA\"}}}}\n",
    "               }]\n",
    "        num += 1"
   ]
  },
  {
   "cell_type": "code",
   "execution_count": 5,
   "metadata": {
    "collapsed": false
   },
   "outputs": [],
   "source": [
    "n = 2\n",
    "gen = firstn(n)\n",
    "gen_data =  np.concatenate([gen.next() for _ in range(n)])"
   ]
  },
  {
   "cell_type": "code",
   "execution_count": 6,
   "metadata": {
    "collapsed": false
   },
   "outputs": [
    {
     "data": {
      "text/plain": [
       "{'dataunit': {'page_property': {'id': {'url': 'http://mysite.com/'},\n",
       "   'property': {'page_views': 1}}},\n",
       " 'pedigree': {'true_as_of_secs': 1442704601}}"
      ]
     },
     "execution_count": 6,
     "metadata": {},
     "output_type": "execute_result"
    }
   ],
   "source": [
    "gen_data[0]"
   ]
  },
  {
   "cell_type": "markdown",
   "metadata": {},
   "source": [
    "Write a generator that will yield `n` data and validate it against the schema below:"
   ]
  },
  {
   "cell_type": "code",
   "execution_count": 7,
   "metadata": {
    "collapsed": false
   },
   "outputs": [
    {
     "name": "stdout",
     "output_type": "stream",
     "text": [
      "Overwriting schema.avsc\n"
     ]
    }
   ],
   "source": [
    "%%writefile schema.avsc\n",
    "[\n",
    "    {\n",
    "        \"namespace\": \"analytics.avro\",\n",
    "        \"type\": \"record\",\n",
    "        \"name\": \"Pedigree\",\n",
    "        \"fields\": [{\"name\": \"true_as_of_secs\", \"type\": \"int\"}]\n",
    "    },\n",
    "    {\n",
    "        \"namespace\": \"analytics.avro\",\n",
    "        \"type\": \"record\",\n",
    "        \"name\": \"PersonID1\",\n",
    "        \"fields\": [{\"name\": \"cookie\", \"type\": \"string\"}]\n",
    "    },\n",
    "    {\n",
    "        \"namespace\": \"analytics.avro\",\n",
    "        \"type\": \"record\",\n",
    "        \"name\": \"PersonID2\",\n",
    "        \"fields\": [{\"name\": \"user_id\", \"type\": \"long\"}]\n",
    "    },\n",
    "    {\n",
    "        \"namespace\": \"analytics.avro\",\n",
    "        \"type\": \"record\",\n",
    "        \"name\": \"PageID\",\n",
    "        \"fields\": [{\"name\": \"url\", \"type\": \"string\"}]\n",
    "    },\n",
    "    \n",
    "    {\n",
    "        \"namespace\": \"analytics.avro\",\n",
    "        \"type\": \"record\",\n",
    "        \"name\": \"PageProperty\",\n",
    "        \"fields\": [\n",
    "            {\n",
    "                \"name\": \"id\",\n",
    "                \"type\": \"PageID\"\n",
    "            },\n",
    "            {\n",
    "                \"name\": \"property\",\n",
    "                \"type\": {\n",
    "                    \"type\": \"record\",\n",
    "                    \"name\": \"PagePropertyValue\",\n",
    "                    \"fields\": [{\"name\": \"page_views\", \"type\": \"int\"}]\n",
    "                }\n",
    "            }\n",
    "        ]\n",
    "    },\n",
    "    {\n",
    "        \"namespace\": \"analytics.avro\",\n",
    "        \"type\": \"record\",\n",
    "        \"name\": \"PersonProperty\",\n",
    "        \"fields\": [\n",
    "            {\n",
    "                \"name\": \"id\",\n",
    "                \"type\": [\n",
    "                    \"PersonID1\",\n",
    "                    \"PersonID2\"\n",
    "                ]\n",
    "            },\n",
    "\n",
    "            {\n",
    "                \"name\": \"property\",\n",
    "                \"type\": [\n",
    "                    {\n",
    "                        \"type\": \"record\",\n",
    "                        \"name\": \"PersonPropertyValue1\",\n",
    "                        \"fields\": [{\"name\": \"full_name\", \"type\": \"string\"}]\n",
    "                    },\n",
    "                    {\n",
    "                        \"type\": \"record\",\n",
    "                        \"name\": \"PersonPropertyValue2\",\n",
    "                        \"fields\": [\n",
    "                            {\n",
    "                                \"name\": \"gender\", \n",
    "                                \"type\": {\n",
    "                                    \"type\": \"enum\",\n",
    "                                    \"name\": \"GenderType\",\n",
    "                                    \"symbols\": [\"MALE\", \"FEMALE\"]\n",
    "                                }\n",
    "                            }\n",
    "                        ]\n",
    "                    },\n",
    "                    {\n",
    "                        \"type\": \"record\",\n",
    "                        \"name\": \"PersonPropertyValue3\",\n",
    "                        \"fields\": [\n",
    "                            {\n",
    "                                \"name\": \"location\", \n",
    "                                \"type\": {\n",
    "                                    \"type\": \"record\",\n",
    "                                    \"name\": \"Location\",\n",
    "                                    \"fields\": [\n",
    "                                        {\"name\": \"city\", \"type\": [\"string\", \"null\"]},\n",
    "                                        {\"name\": \"state\", \"type\": [\"string\", \"null\"]},\n",
    "                                        {\"name\": \"country\", \"type\": [ \"string\",\"null\"]}\n",
    "                                    ]\n",
    "                                }\n",
    "                            }\n",
    "                        ]\n",
    "                    },\n",
    "                    {\n",
    "                        \"type\": \"record\",\n",
    "                        \"name\": \"PersonPropertyValue4\",\n",
    "                        \"fields\": [{\"name\": \"age\", \"type\": \"int\"}] \n",
    "                    }\n",
    "                ]\n",
    "            }\n",
    "        ]\n",
    "    },\n",
    "    {\n",
    "        \"namespace\": \"analytics.avro\",\n",
    "        \"type\": \"record\",\n",
    "        \"name\": \"EquivEdge\",\n",
    "        \"fields\": [\n",
    "            {\"name\": \"id1\", \"type\": [\"PersonID1\", \"PersonID2\"]},\n",
    "            {\"name\": \"id2\", \"type\": [\"PersonID1\", \"PersonID2\"]}\n",
    "        ]\n",
    "    },\n",
    "    {\n",
    "        \"namespace\": \"analytics.avro\",\n",
    "        \"type\": \"record\",\n",
    "        \"name\": \"PageViewEdge\",\n",
    "        \"fields\": [\n",
    "            {\"name\": \"person\", \"type\": [\"PersonID1\", \"PersonID2\"]},\n",
    "            {\"name\": \"page\", \"type\": \"PageID\"},\n",
    "            {\"name\": \"nonce\", \"type\": \"long\"}\n",
    "        ]\n",
    "    },\n",
    "    {\n",
    "        \"namespace\": \"analytics.avro\",\n",
    "        \"type\": \"record\",\n",
    "        \"name\": \"PageLinkEdge\",\n",
    "        \"fields\": [\n",
    "            {\"name\": \"source\", \"type\": \"string\"},\n",
    "            {\"name\": \"target\", \"type\": \"string\"}  \n",
    "        ]\n",
    "    },\n",
    "    {\n",
    "        \"namespace\": \"analytics.avro\",\n",
    "        \"type\": \"record\",\n",
    "        \"name\": \"Data\",\n",
    "        \"fields\": [\n",
    "            {\n",
    "                \"name\": \"pedigree\",\n",
    "                \"type\": \"Pedigree\"\n",
    "            },\n",
    "            {\n",
    "                \"name\": \"dataunit\",\n",
    "                \"type\": [\n",
    "                    {\n",
    "                        \"type\": \"record\",\n",
    "                        \"name\": \"DataUnit1\",\n",
    "                        \"fields\": [{\"name\": \"person_property\", \"type\": \"PersonProperty\"}]\n",
    "                    },\n",
    "                    {\n",
    "                        \"type\": \"record\",\n",
    "                        \"name\": \"DataUnit2\",\n",
    "                        \"fields\": [{\"name\": \"page_property\", \"type\": \"PageProperty\"}]\n",
    "                    },\n",
    "                    {\n",
    "                        \"type\": \"record\",\n",
    "                        \"name\": \"DataUnit3\",\n",
    "                        \"fields\": [{\"name\": \"equiv\", \"type\": \"EquivEdge\"}]\n",
    "                    },\n",
    "                    {\n",
    "                        \"type\": \"record\",\n",
    "                        \"name\": \"DataUnit4\",\n",
    "                        \"fields\": [{\"name\": \"page_view\", \"type\": \"PageViewEdge\"}]\n",
    "                    },\n",
    "                    {\n",
    "                        \"type\": \"record\",\n",
    "                        \"name\": \"DataUnit5\",\n",
    "                        \"fields\": [{\"name\": \"page_link\", \"type\": \"PageLinkEdge\"}]\n",
    "                    }\n",
    "                ]\n",
    "            }\n",
    "        ]\n",
    "    }\n",
    "]"
   ]
  },
  {
   "cell_type": "code",
   "execution_count": 8,
   "metadata": {
    "collapsed": false
   },
   "outputs": [],
   "source": [
    "# have to clear comments, otherwise will throw parsing error\n",
    "schema = avro.schema.parse(open(\"schema.avsc\").read())"
   ]
  },
  {
   "cell_type": "code",
   "execution_count": 9,
   "metadata": {
    "collapsed": false
   },
   "outputs": [
    {
     "data": {
      "text/plain": [
       "[True, True, True, True, True, True, True, True, True, True, True, True]"
      ]
     },
     "execution_count": 9,
     "metadata": {},
     "output_type": "execute_result"
    }
   ],
   "source": [
    "def test_good_data(datum, schema=schema):\n",
    "    return avro.io.validate(schema, datum)\n",
    "map(test_good_data, gen_data)"
   ]
  },
  {
   "cell_type": "markdown",
   "metadata": {},
   "source": [
    "### 3. Extend the Schema"
   ]
  },
  {
   "cell_type": "markdown",
   "metadata": {},
   "source": [
    "#### a) Allow a new person property called age which accepts integers  \n",
    "1. Add this to your generator (these data should fail validation)\n",
    "2. Adjust your schema to allow these new data.\n",
    "3. Invent negative examples to make sure your schema is not too permissive."
   ]
  },
  {
   "cell_type": "code",
   "execution_count": 10,
   "metadata": {
    "collapsed": true
   },
   "outputs": [],
   "source": [
    "age_example = {\"pedigree\": {'true_as_of_secs': 1234567896},\n",
    "               \"dataunit\": {\"person_property\": {\"id\": {\"user_id\": 9876543210},\n",
    "                                          \"property\": {\"age\": 23}}}\n",
    "               }"
   ]
  },
  {
   "cell_type": "code",
   "execution_count": 11,
   "metadata": {
    "collapsed": false
   },
   "outputs": [
    {
     "data": {
      "text/plain": [
       "True"
      ]
     },
     "execution_count": 11,
     "metadata": {},
     "output_type": "execute_result"
    }
   ],
   "source": [
    "avro.io.validate(schema, age_example)"
   ]
  },
  {
   "cell_type": "code",
   "execution_count": 12,
   "metadata": {
    "collapsed": false
   },
   "outputs": [],
   "source": [
    "age_example_neg = {\"pedigree\": {'true_as_of_secs': 1234567896},\n",
    "               \"dataunit\": {\"person_property\": {\"id\": {\"user_id\": 9876543210},\n",
    "                                          \"property\": {\"age\": 0.23}}}\n",
    "                   }"
   ]
  },
  {
   "cell_type": "code",
   "execution_count": 13,
   "metadata": {
    "collapsed": false
   },
   "outputs": [
    {
     "data": {
      "text/plain": [
       "False"
      ]
     },
     "execution_count": 13,
     "metadata": {},
     "output_type": "execute_result"
    }
   ],
   "source": [
    "avro.io.validate(schema, age_example_neg)"
   ]
  },
  {
   "cell_type": "markdown",
   "metadata": {},
   "source": [
    "#### b) Allow links between pages\n",
    "1. Add this to your generator (these data should fail validation)\n",
    "2. Adjust your schema to allow these new data.\n",
    "3. Invent negative examples to make sure your schema is not too permissive."
   ]
  },
  {
   "cell_type": "code",
   "execution_count": 14,
   "metadata": {
    "collapsed": true
   },
   "outputs": [],
   "source": [
    "linked_edge_example = {\"pedigree\": {'true_as_of_secs': 1234567896},\n",
    "                       \"dataunit\": {\"page_link\": {\"source\": \"http://mysite.com/blog\",\n",
    "                                                  \"target\": \"http://mysite.com/\"}}\n",
    "               }"
   ]
  },
  {
   "cell_type": "code",
   "execution_count": 15,
   "metadata": {
    "collapsed": false
   },
   "outputs": [
    {
     "data": {
      "text/plain": [
       "True"
      ]
     },
     "execution_count": 15,
     "metadata": {},
     "output_type": "execute_result"
    }
   ],
   "source": [
    "avro.io.validate(schema, linked_edge_example)"
   ]
  },
  {
   "cell_type": "markdown",
   "metadata": {},
   "source": [
    "On Your Own\n",
    "------------\n",
    "Define a fact-based graph schema based on the system you described yesterday.\n",
    "1. Use [Gliffy](https://www.gliffy.com/) to map it out.\n",
    "2. Write sample data and tests to see if your sample data fits. *Also generate examples that should fail.*\n",
    "3. Use [Avro](http://avro.apache.org/docs/current/index.html) to define your schema and test it"
   ]
  },
  {
   "cell_type": "markdown",
   "metadata": {},
   "source": [
    "##Note:\n",
    "    All fields specifed under NodePropertyValue_i must be filled in otherwise \n",
    "    data check will fail. This is why we think of several vaild ways in which \n",
    "    data can be partially inserted and define those ways:\n",
    "    \n",
    "                        NodePropertyValue_i+1,\n",
    "                        NodePropertyValue_i+2, \n",
    "                        NodePropertyValue_i+3, \n",
    "                                ... , \n",
    "                        NodePropertyValue_i+n "
   ]
  },
  {
   "cell_type": "markdown",
   "metadata": {
    "collapsed": true
   },
   "source": [
    "##Nodes"
   ]
  },
  {
   "cell_type": "code",
   "execution_count": 16,
   "metadata": {
    "collapsed": false
   },
   "outputs": [],
   "source": [
    "ItemID = [{\n",
    "        \"namespace\": \"amazon.avsc\",\n",
    "        \"type\": \"record\",\n",
    "        \"name\": \"ItemID\",\n",
    "        \"fields\": [\n",
    "            {\"name\": \"item_id\", \"type\": \"int\"}\n",
    "        ]\n",
    "    }]"
   ]
  },
  {
   "cell_type": "code",
   "execution_count": 17,
   "metadata": {
    "collapsed": true
   },
   "outputs": [],
   "source": [
    "UserID = [{\n",
    "        \"namespace\": \"amazon.avsc\",\n",
    "        \"type\": \"record\",\n",
    "        \"name\": \"UserID\",\n",
    "        \"fields\": [\n",
    "            {\"name\": \"userID\", \"type\": \"int\"}\n",
    "        ]\n",
    "    }]"
   ]
  },
  {
   "cell_type": "markdown",
   "metadata": {},
   "source": [
    "\"Purcahser\" and \"Seller\" are implicit titles based on explict edge calls.\n",
    "\n",
    "This is why we only need a UserID node and NOT Purchaser or Seller node"
   ]
  },
  {
   "cell_type": "markdown",
   "metadata": {},
   "source": [
    "####Think of Fact Based Models as logging event instances"
   ]
  },
  {
   "cell_type": "code",
   "execution_count": 18,
   "metadata": {
    "collapsed": true
   },
   "outputs": [],
   "source": [
    "UserProperties = [\n",
    "    {\n",
    "        \"namespace\": \"amazon.avsc\",\n",
    "        \"type\": \"record\",\n",
    "        \"name\": \"Location\",\n",
    "        \"fields\": [\n",
    "            {\"name\": \"city\",    \"type\": \"string\"},\n",
    "            {\"name\": \"state\",   \"type\": \"string\"},\n",
    "            {\"name\": \"country\", \"type\": \"string\"}\n",
    "        ]\n",
    "    },\n",
    "    \n",
    "    {\n",
    "        \"namespace\": \"amazon.avsc\",\n",
    "        \"type\": \"enum\",\n",
    "        \"name\": \"GenderType\",\n",
    "        \"symbols\": [\"MALE\", \"FEMALE\"]\n",
    "    },\n",
    "    \n",
    "    {\n",
    "        \"namespace\": \"amazon.avsc\",\n",
    "        \"type\": \"record\",\n",
    "        \"name\": \"UserName\",\n",
    "        \"fields\": [\n",
    "            {\"name\": \"user_name\", \"type\": \"string\"}\n",
    "        ]\n",
    "    },\n",
    "    \n",
    "    {\n",
    "        \"namespace\": \"amazon.avsc\",\n",
    "        \"type\": \"record\",\n",
    "        \"name\": \"UserProperty\",\n",
    "        \"fields\": [\n",
    "            {\"name\": \"userID\",\"type\": \"UserID\"},\n",
    "            \n",
    "            {\n",
    "                \"name\": \"property\",\n",
    "                \"type\": [\n",
    "                    {\n",
    "                        \"type\": \"record\",\n",
    "                        \"name\": \"UserPropertyValue1\",\n",
    "                        \"fields\": [{\"name\": \"full_name\", \"type\": \"UserName\"}]\n",
    "                    },\n",
    "                    {\n",
    "                        \"type\": \"record\",\n",
    "                        \"name\": \"UserPropertyValue2\",\n",
    "                        \"fields\": [{\"name\": \"gender\",    \"type\": \"GenderType\"}]\n",
    "                    },\n",
    "                    {\n",
    "                        \"type\": \"record\",\n",
    "                        \"name\": \"UserPropertyValue3\",\n",
    "                        \"fields\": [{\"name\": \"location\",  \"type\": \"Location\"}]\n",
    "                    }\n",
    "                ]\n",
    "            }\n",
    "        ]\n",
    "    }]"
   ]
  },
  {
   "cell_type": "code",
   "execution_count": 19,
   "metadata": {
    "collapsed": false
   },
   "outputs": [],
   "source": [
    "ItemProperties = [\n",
    "    {\n",
    "        \"namespace\": \"amazon.avsc\",\n",
    "        \"type\": \"record\",\n",
    "        \"name\": \"ItemName\",\n",
    "        \"fields\": [\n",
    "            {\"name\": \"item_name\", \"type\": \"string\"}\n",
    "        ]\n",
    "    },\n",
    "    \n",
    "    {\n",
    "        \"namespace\": \"amazon.avsc\",\n",
    "        \"type\": \"record\",\n",
    "        \"name\": \"ItemDescription\",\n",
    "        \"fields\": [\n",
    "            {\"name\": \"item_description\", \"type\": \"string\"}\n",
    "        ]\n",
    "    },\n",
    "    {\n",
    "        \"namespace\": \"amazon.avsc\",\n",
    "        \"type\": \"record\",\n",
    "        \"name\": \"ItemProperty\",\n",
    "        \"fields\": [\n",
    "            {\n",
    "                \"name\": \"item_id\",\n",
    "                \"type\": \"ItemID\"\n",
    "            },\n",
    "            {\n",
    "                \"name\": \"property\",\n",
    "                \"type\": [\n",
    "                    {\n",
    "                        \"type\": \"record\",\n",
    "                        \"name\": \"ItemPropertyValue1\",\n",
    "                        \"fields\": [{\"name\": \"item_name\", \"type\": \"ItemName\"}]\n",
    "                    },\n",
    "                    {\n",
    "                        \"type\": \"record\",\n",
    "                        \"name\": \"ItemPropertyValue2\",\n",
    "                        \"fields\": [{\"name\": \"description\", \"type\": \"ItemDescription\"}]\n",
    "                    }\n",
    "                ]\n",
    "            }\n",
    "        ]\n",
    "    }]"
   ]
  },
  {
   "cell_type": "code",
   "execution_count": 20,
   "metadata": {
    "collapsed": true
   },
   "outputs": [],
   "source": [
    "PurchaseEdge = {\n",
    "        \"namespace\": \"amazon.avsc\",\n",
    "        \"type\": \"record\",\n",
    "        \"name\": \"PurchaseEdge\",\n",
    "        \"fields\": [\n",
    "            {\"name\": \"userID\", \"type\": \"UserID\"},\n",
    "            {\"name\": \"item_id\", \"type\": \"ItemID\"},\n",
    "            {\"name\": \"purchase_time\", \"type\": \"int\"}\n",
    "        ]\n",
    "    }"
   ]
  },
  {
   "cell_type": "code",
   "execution_count": 21,
   "metadata": {
    "collapsed": true
   },
   "outputs": [],
   "source": [
    "ReviewEdge = {\n",
    "        \"namespace\": \"amazon.avsc\",\n",
    "        \"type\": \"record\",\n",
    "        \"name\": \"ReviewEdge\",\n",
    "        \"fields\": [\n",
    "            {\"name\": \"userID\",   \"type\": \"UserID\"},\n",
    "            {\"name\": \"item_id\",   \"type\": \"ItemID\"},\n",
    "            {\"name\": \"review\", \"type\": [\"null\", \"string\"]}\n",
    "        ]\n",
    "    }"
   ]
  },
  {
   "cell_type": "code",
   "execution_count": 22,
   "metadata": {
    "collapsed": true
   },
   "outputs": [],
   "source": [
    "Data = [\n",
    "    {\n",
    "        \"namespace\": \"amazon.avsc\",\n",
    "        \"type\": \"record\",\n",
    "        \"name\": \"Pedigree\",\n",
    "        \"fields\": [{\"name\": \"true_as_of_secs\", \"type\": \"int\"}]\n",
    "    },\n",
    "    {\n",
    "        \"namespace\": \"amazon.avsc\",\n",
    "        \"type\": \"record\",\n",
    "        \"name\": \"Data\",\n",
    "        \"fields\": [\n",
    "            {\n",
    "                \"name\": \"pedigree\",\n",
    "                \"type\": \"Pedigree\"\n",
    "            },\n",
    "            {\n",
    "                \"name\": \"dataunit\",\n",
    "                \"type\": [\n",
    "                    {\n",
    "                        \"type\": \"record\",\n",
    "                        \"name\": \"DataUnit1\",\n",
    "                        \"fields\": [{\"name\": \"user_property\", \"type\": \"UserProperty\"}]\n",
    "                    },\n",
    "                    {\n",
    "                        \"type\": \"record\",\n",
    "                        \"name\": \"DataUnit2\",\n",
    "                        \"fields\": [{\"name\": \"item_property\", \"type\": \"ItemProperty\"}]\n",
    "                    },\n",
    "                    {\n",
    "                        \"type\": \"record\",\n",
    "                        \"name\": \"DataUnit3\",\n",
    "                        \"fields\": [{\"name\": \"purchase_edge\", \"type\": \"PurchaseEdge\"}]\n",
    "                    },\n",
    "                    {\n",
    "                        \"type\": \"record\",\n",
    "                        \"name\": \"DataUnit4\",\n",
    "                        \"fields\": [{\"name\": \"review_view\", \"type\": \"ReviewEdge\"}]\n",
    "                    }\n",
    "                ]\n",
    "            }\n",
    "        ]\n",
    "    }\n",
    "]"
   ]
  },
  {
   "cell_type": "markdown",
   "metadata": {},
   "source": [
    "##Need to create data structures for each different type of entry\n",
    "    i.e.) userData, itemData, EdgeData, ...\n",
    "    I think this will work, anyways"
   ]
  },
  {
   "cell_type": "code",
   "execution_count": 23,
   "metadata": {
    "collapsed": true
   },
   "outputs": [],
   "source": [
    "Nodes = UserID + ItemID\n",
    "Edges = [PurchaseEdge, ReviewEdge]"
   ]
  },
  {
   "cell_type": "code",
   "execution_count": 24,
   "metadata": {
    "collapsed": false
   },
   "outputs": [],
   "source": [
    "schema = avro.schema.parse(json.dumps(Nodes + Edges +  UserProperties +  ItemProperties + Data))"
   ]
  },
  {
   "cell_type": "code",
   "execution_count": 25,
   "metadata": {
    "collapsed": false
   },
   "outputs": [],
   "source": [
    "from time import time\n",
    "from nltk.corpus import names\n",
    "import random\n",
    "       \n",
    "def gen_userID():  \n",
    "    userID = 1\n",
    "    while True:\n",
    "        yield str(userID)\n",
    "        userID +=1    \n",
    "        \n",
    "def gen_item_id():  \n",
    "    user_id = 100\n",
    "    while True:\n",
    "        yield str(user_id)\n",
    "        user_id +=1 \n",
    "    \n",
    "\n",
    "def get_gender():\n",
    "    if random.random() > 0.51:\n",
    "        return \"MALE\"\n",
    "    else:\n",
    "        return \"FEMALE\"        \n",
    "        \n",
    "def get_city_state():\n",
    "    data = pd.read_csv(\"/Users/Alexander/Downloads/AdWords API Location Criteria 2015-05-29.csv\")\n",
    "    city_state_country = data[data[\"Country Code\"] == \"US\"][\"Canonical Name\"].values\n",
    "    random.shuffle(city_state_country)\n",
    "    while True:\n",
    "        random.choice(city_state_country)\n",
    "        state = city_state_country[0].split(\",\")[-2]\n",
    "        city = city_state_country[0].split(\",\")[-3]\n",
    "        yield city, state        \n",
    "        \n",
    "def gen_Users(n):\n",
    "    Names = names.words()\n",
    "    random.shuffle(Names)\n",
    "    userID = gen_userID()\n",
    "    city_state = get_city_state()\n",
    "    num = 0\n",
    "    while num < n:\n",
    "        city,state = city_state.next()\n",
    "        user_id = userID.next()\n",
    "        \n",
    "        yield [{'pedigree': {'true_as_of_secs': int(time())},\n",
    "            'dataunit': {'person_property': {'id': {'userID': user_id},\n",
    "                                    'property': {'user_name': random.choice(Names)}}},\n",
    "               },\n",
    "            {\"pedigree\": {'true_as_of_secs': int(time())},\n",
    "               \"dataunit\": {\"person_property\": {\"id\": {\"userID\": user_id},\n",
    "                                                \"property\": {\"gender\": get_gender()}}}\n",
    "               },\n",
    "            {\"pedigree\": {'true_as_of_secs': int(time())},\n",
    "               \"dataunit\": {\"person_property\": {\"id\": {\"userID\": user_id},\n",
    "                                                \"property\": {\"location\": {\"city\" :  city, \n",
    "                                                                          \"state\": state,\n",
    "                                                                         \"country\": \"USA\"}}}}\n",
    "            }]\n",
    "        num += 1"
   ]
  },
  {
   "cell_type": "code",
   "execution_count": 26,
   "metadata": {
    "collapsed": false
   },
   "outputs": [],
   "source": [
    "gen_users = gen_Users(5)"
   ]
  },
  {
   "cell_type": "code",
   "execution_count": 27,
   "metadata": {
    "collapsed": false
   },
   "outputs": [],
   "source": [
    "dat = [user for user in gen_users.next()]"
   ]
  },
  {
   "cell_type": "code",
   "execution_count": 28,
   "metadata": {
    "collapsed": false,
    "scrolled": true
   },
   "outputs": [
    {
     "data": {
      "text/plain": [
       "{'dataunit': {'person_property': {'id': {'userID': '2'},\n",
       "   'property': {'user_name': u'Rene'}}},\n",
       " 'pedigree': {'true_as_of_secs': 1442704617}}"
      ]
     },
     "execution_count": 28,
     "metadata": {},
     "output_type": "execute_result"
    }
   ],
   "source": [
    "gen_users.next()[0]"
   ]
  },
  {
   "cell_type": "code",
   "execution_count": 29,
   "metadata": {
    "collapsed": false
   },
   "outputs": [
    {
     "data": {
      "text/plain": [
       "[False, False, False]"
      ]
     },
     "execution_count": 29,
     "metadata": {},
     "output_type": "execute_result"
    }
   ],
   "source": [
    "def test_good_data(datum, schema=schema):\n",
    "    return avro.io.validate(schema, datum)\n",
    "map(test_good_data, dat)"
   ]
  },
  {
   "cell_type": "code",
   "execution_count": 30,
   "metadata": {
    "collapsed": false
   },
   "outputs": [],
   "source": [
    "DAT = {\"pedigree\": {'true_as_of_secs': 12344},\n",
    "       \"dataunit\": {\"person_property\": {\"id\": {\"userID\": 727272},\n",
    "                                  \"property\": {\"gender\": \"MALE\"}}}}"
   ]
  },
  {
   "cell_type": "code",
   "execution_count": 31,
   "metadata": {
    "collapsed": false
   },
   "outputs": [
    {
     "data": {
      "text/plain": [
       "False"
      ]
     },
     "execution_count": 31,
     "metadata": {},
     "output_type": "execute_result"
    }
   ],
   "source": [
    "test_good_data(DAT)"
   ]
  },
  {
   "cell_type": "markdown",
   "metadata": {},
   "source": [
    "##Note: just changed 'namespace' in schema"
   ]
  },
  {
   "cell_type": "code",
   "execution_count": 32,
   "metadata": {
    "collapsed": false,
    "scrolled": true
   },
   "outputs": [
    {
     "ename": "AvroTypeException",
     "evalue": "The datum {'dataunit': {'page_property': {'property': {'user_name': u'Ethelin'}, 'id': {'userID': '1'}}}, 'pedigree': {'true_as_of_secs': 1442011805}} is not an example of the schema [\n  {\n    \"namespace\": \"amazon.avsc\", \n    \"type\": \"record\", \n    \"name\": \"UserID\", \n    \"fields\": [\n      {\n        \"type\": \"int\", \n        \"name\": \"userID\"\n      }\n    ]\n  }, \n  {\n    \"namespace\": \"amazon.avsc\", \n    \"type\": \"record\", \n    \"name\": \"ItemID\", \n    \"fields\": [\n      {\n        \"type\": \"int\", \n        \"name\": \"item_id\"\n      }\n    ]\n  }, \n  {\n    \"namespace\": \"amazon.avsc\", \n    \"type\": \"record\", \n    \"name\": \"PurchaseEdge\", \n    \"fields\": [\n      {\n        \"type\": \"amazon.avsc.UserID\", \n        \"name\": \"userID\"\n      }, \n      {\n        \"type\": \"amazon.avsc.ItemID\", \n        \"name\": \"item_id\"\n      }, \n      {\n        \"type\": \"int\", \n        \"name\": \"purchase_time\"\n      }\n    ]\n  }, \n  {\n    \"namespace\": \"amazon.avsc\", \n    \"type\": \"record\", \n    \"name\": \"ReviewEdge\", \n    \"fields\": [\n      {\n        \"type\": \"amazon.avsc.UserID\", \n        \"name\": \"userID\"\n      }, \n      {\n        \"type\": \"amazon.avsc.ItemID\", \n        \"name\": \"item_id\"\n      }, \n      {\n        \"type\": [\n          \"null\", \n          \"string\"\n        ], \n        \"name\": \"review\"\n      }\n    ]\n  }, \n  {\n    \"namespace\": \"amazon.avsc\", \n    \"type\": \"record\", \n    \"name\": \"Location\", \n    \"fields\": [\n      {\n        \"type\": \"string\", \n        \"name\": \"city\"\n      }, \n      {\n        \"type\": \"string\", \n        \"name\": \"state\"\n      }, \n      {\n        \"type\": \"string\", \n        \"name\": \"country\"\n      }\n    ]\n  }, \n  {\n    \"symbols\": [\n      \"MALE\", \n      \"FEMALE\"\n    ], \n    \"type\": \"enum\", \n    \"namespace\": \"amazon.avsc\", \n    \"name\": \"GenderType\"\n  }, \n  {\n    \"namespace\": \"amazon.avsc\", \n    \"type\": \"record\", \n    \"name\": \"UserName\", \n    \"fields\": [\n      {\n        \"type\": \"string\", \n        \"name\": \"user_name\"\n      }\n    ]\n  }, \n  {\n    \"namespace\": \"amazon.avsc\", \n    \"type\": \"record\", \n    \"name\": \"UserProperty\", \n    \"fields\": [\n      {\n        \"type\": \"amazon.avsc.UserID\", \n        \"name\": \"userID\"\n      }, \n      {\n        \"type\": [\n          {\n            \"namespace\": \"amazon.avsc\", \n            \"type\": \"record\", \n            \"name\": \"UserPropertyValue1\", \n            \"fields\": [\n              {\n                \"type\": \"amazon.avsc.UserName\", \n                \"name\": \"full_name\"\n              }\n            ]\n          }, \n          {\n            \"namespace\": \"amazon.avsc\", \n            \"type\": \"record\", \n            \"name\": \"UserPropertyValue2\", \n            \"fields\": [\n              {\n                \"type\": \"amazon.avsc.GenderType\", \n                \"name\": \"gender\"\n              }\n            ]\n          }, \n          {\n            \"namespace\": \"amazon.avsc\", \n            \"type\": \"record\", \n            \"name\": \"UserPropertyValue3\", \n            \"fields\": [\n              {\n                \"type\": \"amazon.avsc.Location\", \n                \"name\": \"location\"\n              }\n            ]\n          }\n        ], \n        \"name\": \"property\"\n      }\n    ]\n  }, \n  {\n    \"namespace\": \"amazon.avsc\", \n    \"type\": \"record\", \n    \"name\": \"ItemName\", \n    \"fields\": [\n      {\n        \"type\": \"string\", \n        \"name\": \"item_name\"\n      }\n    ]\n  }, \n  {\n    \"namespace\": \"amazon.avsc\", \n    \"type\": \"record\", \n    \"name\": \"ItemDescription\", \n    \"fields\": [\n      {\n        \"type\": \"string\", \n        \"name\": \"item_description\"\n      }\n    ]\n  }, \n  {\n    \"namespace\": \"amazon.avsc\", \n    \"type\": \"record\", \n    \"name\": \"ItemProperty\", \n    \"fields\": [\n      {\n        \"type\": \"amazon.avsc.ItemID\", \n        \"name\": \"item_id\"\n      }, \n      {\n        \"type\": [\n          {\n            \"namespace\": \"amazon.avsc\", \n            \"type\": \"record\", \n            \"name\": \"ItemPropertyValue1\", \n            \"fields\": [\n              {\n                \"type\": \"amazon.avsc.ItemName\", \n                \"name\": \"item_name\"\n              }\n            ]\n          }, \n          {\n            \"namespace\": \"amazon.avsc\", \n            \"type\": \"record\", \n            \"name\": \"ItemPropertyValue2\", \n            \"fields\": [\n              {\n                \"type\": \"amazon.avsc.ItemDescription\", \n                \"name\": \"description\"\n              }\n            ]\n          }\n        ], \n        \"name\": \"property\"\n      }\n    ]\n  }, \n  {\n    \"namespace\": \"amazon.avsc\", \n    \"type\": \"record\", \n    \"name\": \"Pedigree\", \n    \"fields\": [\n      {\n        \"type\": \"int\", \n        \"name\": \"true_as_of_secs\"\n      }\n    ]\n  }, \n  {\n    \"namespace\": \"amazon.avsc\", \n    \"type\": \"record\", \n    \"name\": \"Data\", \n    \"fields\": [\n      {\n        \"type\": \"amazon.avsc.Pedigree\", \n        \"name\": \"pedigree\"\n      }, \n      {\n        \"type\": [\n          {\n            \"namespace\": \"amazon.avsc\", \n            \"type\": \"record\", \n            \"name\": \"DataUnit1\", \n            \"fields\": [\n              {\n                \"type\": \"amazon.avsc.UserProperty\", \n                \"name\": \"user_property\"\n              }\n            ]\n          }, \n          {\n            \"namespace\": \"amazon.avsc\", \n            \"type\": \"record\", \n            \"name\": \"DataUnit2\", \n            \"fields\": [\n              {\n                \"type\": \"amazon.avsc.ItemProperty\", \n                \"name\": \"item_property\"\n              }\n            ]\n          }, \n          {\n            \"namespace\": \"amazon.avsc\", \n            \"type\": \"record\", \n            \"name\": \"DataUnit3\", \n            \"fields\": [\n              {\n                \"type\": \"amazon.avsc.PurchaseEdge\", \n                \"name\": \"purchase_edge\"\n              }\n            ]\n          }, \n          {\n            \"namespace\": \"amazon.avsc\", \n            \"type\": \"record\", \n            \"name\": \"DataUnit4\", \n            \"fields\": [\n              {\n                \"type\": \"amazon.avsc.ReviewEdge\", \n                \"name\": \"review_view\"\n              }\n            ]\n          }\n        ], \n        \"name\": \"dataunit\"\n      }\n    ]\n  }\n]",
     "output_type": "error",
     "traceback": [
      "\u001b[0;31m---------------------------------------------------------------------------\u001b[0m",
      "\u001b[0;31mAvroTypeException\u001b[0m                         Traceback (most recent call last)",
      "\u001b[0;32m<ipython-input-32-6372a4524a80>\u001b[0m in \u001b[0;36m<module>\u001b[0;34m()\u001b[0m\n\u001b[1;32m      5\u001b[0m writer.append({'dataunit': {'page_property': {'id': {'userID': '1'},\n\u001b[1;32m      6\u001b[0m                'property': {'user_name': u'Ethelin'}}},\n\u001b[0;32m----> 7\u001b[0;31m                'pedigree': {'true_as_of_secs': 1442011805}})\n\u001b[0m\u001b[1;32m      8\u001b[0m \u001b[0mwriter\u001b[0m\u001b[0;34m.\u001b[0m\u001b[0mclose\u001b[0m\u001b[0;34m(\u001b[0m\u001b[0;34m)\u001b[0m\u001b[0;34m\u001b[0m\u001b[0m\n\u001b[1;32m      9\u001b[0m \u001b[0;34m\u001b[0m\u001b[0m\n",
      "\u001b[0;32m//anaconda/lib/python2.7/site-packages/avro/datafile.pyc\u001b[0m in \u001b[0;36mappend\u001b[0;34m(self, datum)\u001b[0m\n\u001b[1;32m    194\u001b[0m   \u001b[0;32mdef\u001b[0m \u001b[0mappend\u001b[0m\u001b[0;34m(\u001b[0m\u001b[0mself\u001b[0m\u001b[0;34m,\u001b[0m \u001b[0mdatum\u001b[0m\u001b[0;34m)\u001b[0m\u001b[0;34m:\u001b[0m\u001b[0;34m\u001b[0m\u001b[0m\n\u001b[1;32m    195\u001b[0m     \u001b[0;34m\"\"\"Append a datum to the file.\"\"\"\u001b[0m\u001b[0;34m\u001b[0m\u001b[0m\n\u001b[0;32m--> 196\u001b[0;31m     \u001b[0mself\u001b[0m\u001b[0;34m.\u001b[0m\u001b[0mdatum_writer\u001b[0m\u001b[0;34m.\u001b[0m\u001b[0mwrite\u001b[0m\u001b[0;34m(\u001b[0m\u001b[0mdatum\u001b[0m\u001b[0;34m,\u001b[0m \u001b[0mself\u001b[0m\u001b[0;34m.\u001b[0m\u001b[0mbuffer_encoder\u001b[0m\u001b[0;34m)\u001b[0m\u001b[0;34m\u001b[0m\u001b[0m\n\u001b[0m\u001b[1;32m    197\u001b[0m     \u001b[0mself\u001b[0m\u001b[0;34m.\u001b[0m\u001b[0mblock_count\u001b[0m \u001b[0;34m+=\u001b[0m \u001b[0;36m1\u001b[0m\u001b[0;34m\u001b[0m\u001b[0m\n\u001b[1;32m    198\u001b[0m \u001b[0;34m\u001b[0m\u001b[0m\n",
      "\u001b[0;32m//anaconda/lib/python2.7/site-packages/avro/io.pyc\u001b[0m in \u001b[0;36mwrite\u001b[0;34m(self, datum, encoder)\u001b[0m\n\u001b[1;32m    767\u001b[0m     \u001b[0;31m# validate datum\u001b[0m\u001b[0;34m\u001b[0m\u001b[0;34m\u001b[0m\u001b[0m\n\u001b[1;32m    768\u001b[0m     \u001b[0;32mif\u001b[0m \u001b[0;32mnot\u001b[0m \u001b[0mvalidate\u001b[0m\u001b[0;34m(\u001b[0m\u001b[0mself\u001b[0m\u001b[0;34m.\u001b[0m\u001b[0mwriters_schema\u001b[0m\u001b[0;34m,\u001b[0m \u001b[0mdatum\u001b[0m\u001b[0;34m)\u001b[0m\u001b[0;34m:\u001b[0m\u001b[0;34m\u001b[0m\u001b[0m\n\u001b[0;32m--> 769\u001b[0;31m       \u001b[0;32mraise\u001b[0m \u001b[0mAvroTypeException\u001b[0m\u001b[0;34m(\u001b[0m\u001b[0mself\u001b[0m\u001b[0;34m.\u001b[0m\u001b[0mwriters_schema\u001b[0m\u001b[0;34m,\u001b[0m \u001b[0mdatum\u001b[0m\u001b[0;34m)\u001b[0m\u001b[0;34m\u001b[0m\u001b[0m\n\u001b[0m\u001b[1;32m    770\u001b[0m \u001b[0;34m\u001b[0m\u001b[0m\n\u001b[1;32m    771\u001b[0m     \u001b[0mself\u001b[0m\u001b[0;34m.\u001b[0m\u001b[0mwrite_data\u001b[0m\u001b[0;34m(\u001b[0m\u001b[0mself\u001b[0m\u001b[0;34m.\u001b[0m\u001b[0mwriters_schema\u001b[0m\u001b[0;34m,\u001b[0m \u001b[0mdatum\u001b[0m\u001b[0;34m,\u001b[0m \u001b[0mencoder\u001b[0m\u001b[0;34m)\u001b[0m\u001b[0;34m\u001b[0m\u001b[0m\n",
      "\u001b[0;31mAvroTypeException\u001b[0m: The datum {'dataunit': {'page_property': {'property': {'user_name': u'Ethelin'}, 'id': {'userID': '1'}}}, 'pedigree': {'true_as_of_secs': 1442011805}} is not an example of the schema [\n  {\n    \"namespace\": \"amazon.avsc\", \n    \"type\": \"record\", \n    \"name\": \"UserID\", \n    \"fields\": [\n      {\n        \"type\": \"int\", \n        \"name\": \"userID\"\n      }\n    ]\n  }, \n  {\n    \"namespace\": \"amazon.avsc\", \n    \"type\": \"record\", \n    \"name\": \"ItemID\", \n    \"fields\": [\n      {\n        \"type\": \"int\", \n        \"name\": \"item_id\"\n      }\n    ]\n  }, \n  {\n    \"namespace\": \"amazon.avsc\", \n    \"type\": \"record\", \n    \"name\": \"PurchaseEdge\", \n    \"fields\": [\n      {\n        \"type\": \"amazon.avsc.UserID\", \n        \"name\": \"userID\"\n      }, \n      {\n        \"type\": \"amazon.avsc.ItemID\", \n        \"name\": \"item_id\"\n      }, \n      {\n        \"type\": \"int\", \n        \"name\": \"purchase_time\"\n      }\n    ]\n  }, \n  {\n    \"namespace\": \"amazon.avsc\", \n    \"type\": \"record\", \n    \"name\": \"ReviewEdge\", \n    \"fields\": [\n      {\n        \"type\": \"amazon.avsc.UserID\", \n        \"name\": \"userID\"\n      }, \n      {\n        \"type\": \"amazon.avsc.ItemID\", \n        \"name\": \"item_id\"\n      }, \n      {\n        \"type\": [\n          \"null\", \n          \"string\"\n        ], \n        \"name\": \"review\"\n      }\n    ]\n  }, \n  {\n    \"namespace\": \"amazon.avsc\", \n    \"type\": \"record\", \n    \"name\": \"Location\", \n    \"fields\": [\n      {\n        \"type\": \"string\", \n        \"name\": \"city\"\n      }, \n      {\n        \"type\": \"string\", \n        \"name\": \"state\"\n      }, \n      {\n        \"type\": \"string\", \n        \"name\": \"country\"\n      }\n    ]\n  }, \n  {\n    \"symbols\": [\n      \"MALE\", \n      \"FEMALE\"\n    ], \n    \"type\": \"enum\", \n    \"namespace\": \"amazon.avsc\", \n    \"name\": \"GenderType\"\n  }, \n  {\n    \"namespace\": \"amazon.avsc\", \n    \"type\": \"record\", \n    \"name\": \"UserName\", \n    \"fields\": [\n      {\n        \"type\": \"string\", \n        \"name\": \"user_name\"\n      }\n    ]\n  }, \n  {\n    \"namespace\": \"amazon.avsc\", \n    \"type\": \"record\", \n    \"name\": \"UserProperty\", \n    \"fields\": [\n      {\n        \"type\": \"amazon.avsc.UserID\", \n        \"name\": \"userID\"\n      }, \n      {\n        \"type\": [\n          {\n            \"namespace\": \"amazon.avsc\", \n            \"type\": \"record\", \n            \"name\": \"UserPropertyValue1\", \n            \"fields\": [\n              {\n                \"type\": \"amazon.avsc.UserName\", \n                \"name\": \"full_name\"\n              }\n            ]\n          }, \n          {\n            \"namespace\": \"amazon.avsc\", \n            \"type\": \"record\", \n            \"name\": \"UserPropertyValue2\", \n            \"fields\": [\n              {\n                \"type\": \"amazon.avsc.GenderType\", \n                \"name\": \"gender\"\n              }\n            ]\n          }, \n          {\n            \"namespace\": \"amazon.avsc\", \n            \"type\": \"record\", \n            \"name\": \"UserPropertyValue3\", \n            \"fields\": [\n              {\n                \"type\": \"amazon.avsc.Location\", \n                \"name\": \"location\"\n              }\n            ]\n          }\n        ], \n        \"name\": \"property\"\n      }\n    ]\n  }, \n  {\n    \"namespace\": \"amazon.avsc\", \n    \"type\": \"record\", \n    \"name\": \"ItemName\", \n    \"fields\": [\n      {\n        \"type\": \"string\", \n        \"name\": \"item_name\"\n      }\n    ]\n  }, \n  {\n    \"namespace\": \"amazon.avsc\", \n    \"type\": \"record\", \n    \"name\": \"ItemDescription\", \n    \"fields\": [\n      {\n        \"type\": \"string\", \n        \"name\": \"item_description\"\n      }\n    ]\n  }, \n  {\n    \"namespace\": \"amazon.avsc\", \n    \"type\": \"record\", \n    \"name\": \"ItemProperty\", \n    \"fields\": [\n      {\n        \"type\": \"amazon.avsc.ItemID\", \n        \"name\": \"item_id\"\n      }, \n      {\n        \"type\": [\n          {\n            \"namespace\": \"amazon.avsc\", \n            \"type\": \"record\", \n            \"name\": \"ItemPropertyValue1\", \n            \"fields\": [\n              {\n                \"type\": \"amazon.avsc.ItemName\", \n                \"name\": \"item_name\"\n              }\n            ]\n          }, \n          {\n            \"namespace\": \"amazon.avsc\", \n            \"type\": \"record\", \n            \"name\": \"ItemPropertyValue2\", \n            \"fields\": [\n              {\n                \"type\": \"amazon.avsc.ItemDescription\", \n                \"name\": \"description\"\n              }\n            ]\n          }\n        ], \n        \"name\": \"property\"\n      }\n    ]\n  }, \n  {\n    \"namespace\": \"amazon.avsc\", \n    \"type\": \"record\", \n    \"name\": \"Pedigree\", \n    \"fields\": [\n      {\n        \"type\": \"int\", \n        \"name\": \"true_as_of_secs\"\n      }\n    ]\n  }, \n  {\n    \"namespace\": \"amazon.avsc\", \n    \"type\": \"record\", \n    \"name\": \"Data\", \n    \"fields\": [\n      {\n        \"type\": \"amazon.avsc.Pedigree\", \n        \"name\": \"pedigree\"\n      }, \n      {\n        \"type\": [\n          {\n            \"namespace\": \"amazon.avsc\", \n            \"type\": \"record\", \n            \"name\": \"DataUnit1\", \n            \"fields\": [\n              {\n                \"type\": \"amazon.avsc.UserProperty\", \n                \"name\": \"user_property\"\n              }\n            ]\n          }, \n          {\n            \"namespace\": \"amazon.avsc\", \n            \"type\": \"record\", \n            \"name\": \"DataUnit2\", \n            \"fields\": [\n              {\n                \"type\": \"amazon.avsc.ItemProperty\", \n                \"name\": \"item_property\"\n              }\n            ]\n          }, \n          {\n            \"namespace\": \"amazon.avsc\", \n            \"type\": \"record\", \n            \"name\": \"DataUnit3\", \n            \"fields\": [\n              {\n                \"type\": \"amazon.avsc.PurchaseEdge\", \n                \"name\": \"purchase_edge\"\n              }\n            ]\n          }, \n          {\n            \"namespace\": \"amazon.avsc\", \n            \"type\": \"record\", \n            \"name\": \"DataUnit4\", \n            \"fields\": [\n              {\n                \"type\": \"amazon.avsc.ReviewEdge\", \n                \"name\": \"review_view\"\n              }\n            ]\n          }\n        ], \n        \"name\": \"dataunit\"\n      }\n    ]\n  }\n]"
     ]
    }
   ],
   "source": [
    "#schema = avro.schema.parse(open(\"user.avsc\").read())\n",
    "\n",
    "writer = DataFileWriter(open(\"amazon.avsc\", \"w\"), DatumWriter(), schema)\n",
    "\n",
    "writer.append({'dataunit': {'page_property': {'id': {'userID': '1'},\n",
    "               'property': {'user_name': u'Ethelin'}}},\n",
    "               'pedigree': {'true_as_of_secs': 1442011805}})\n",
    "writer.close()\n",
    "\n",
    "reader = DataFileReader(open(\"amazon.avsc\", \"r\"), DatumReader())\n",
    "\n",
    "for user in reader:\n",
    "    print user\n",
    "reader.close()"
   ]
  },
  {
   "cell_type": "markdown",
   "metadata": {
    "collapsed": true
   },
   "source": [
    "##Generate Bank of User Names"
   ]
  },
  {
   "cell_type": "code",
   "execution_count": null,
   "metadata": {
    "collapsed": true
   },
   "outputs": [],
   "source": [
    "from nltk.corpus import names\n",
    "import random"
   ]
  },
  {
   "cell_type": "code",
   "execution_count": null,
   "metadata": {
    "collapsed": false
   },
   "outputs": [],
   "source": [
    "Names = names.words()\n",
    "random.shuffle(Names)"
   ]
  },
  {
   "cell_type": "code",
   "execution_count": null,
   "metadata": {
    "collapsed": false
   },
   "outputs": [],
   "source": [
    "random.choice(Names)"
   ]
  },
  {
   "cell_type": "code",
   "execution_count": null,
   "metadata": {
    "collapsed": false
   },
   "outputs": [],
   "source": [
    "def get_gender():\n",
    "    if random.random() > 0.51:\n",
    "        return \"MALE\"\n",
    "    else:\n",
    "        return \"FEMALE\""
   ]
  },
  {
   "cell_type": "code",
   "execution_count": null,
   "metadata": {
    "collapsed": false
   },
   "outputs": [],
   "source": [
    "data = pd.read_csv(\"/Users/Alexander/Downloads/AdWords API Location Criteria 2015-05-29.csv\")"
   ]
  },
  {
   "cell_type": "code",
   "execution_count": null,
   "metadata": {
    "collapsed": false
   },
   "outputs": [],
   "source": [
    "data.head()"
   ]
  },
  {
   "cell_type": "code",
   "execution_count": null,
   "metadata": {
    "collapsed": false
   },
   "outputs": [],
   "source": [
    "city_state_country = data[data[\"Country Code\"] == \"US\"][\"Canonical Name\"].values"
   ]
  },
  {
   "cell_type": "code",
   "execution_count": null,
   "metadata": {
    "collapsed": false
   },
   "outputs": [],
   "source": [
    "city_state_country[0].split(\",\")"
   ]
  },
  {
   "cell_type": "code",
   "execution_count": null,
   "metadata": {
    "collapsed": false
   },
   "outputs": [],
   "source": [
    "city_state_country.shape"
   ]
  },
  {
   "cell_type": "code",
   "execution_count": null,
   "metadata": {
    "collapsed": false
   },
   "outputs": [],
   "source": [
    "random.shuffle(city_state_country)\n",
    "random.choice(city_state_country)"
   ]
  },
  {
   "cell_type": "code",
   "execution_count": null,
   "metadata": {
    "collapsed": false
   },
   "outputs": [],
   "source": [
    "state = city_state_country[0].split(\",\")[-2]"
   ]
  },
  {
   "cell_type": "code",
   "execution_count": null,
   "metadata": {
    "collapsed": false
   },
   "outputs": [],
   "source": [
    "city_state_country[0].split(\",\")[-3]"
   ]
  },
  {
   "cell_type": "code",
   "execution_count": null,
   "metadata": {
    "collapsed": true
   },
   "outputs": [],
   "source": [
    "\n",
    "def get_city_state(data):\n",
    "    data = pd.read_csv(\"/Users/Alexander/Downloads/AdWords API Location Criteria 2015-05-29.csv\")\n",
    "    city_state_country = data[data[\"Country Code\"] == \"US\"][\"Canonical Name\"].values\n",
    "    random.shuffle(city_staet_country)\n",
    "    while True:\n",
    "        random.choice(city_staet_country)\n",
    "        state = city_staet_country[0].split(\",\")[-2]\n",
    "        city = city_state_country[0].split(\",\")[-3]\n",
    "        yield city, state"
   ]
  }
 ],
 "metadata": {
  "kernelspec": {
   "display_name": "Python 2",
   "language": "python",
   "name": "python2"
  },
  "language_info": {
   "codemirror_mode": {
    "name": "ipython",
    "version": 2
   },
   "file_extension": ".py",
   "mimetype": "text/x-python",
   "name": "python",
   "nbconvert_exporter": "python",
   "pygments_lexer": "ipython2",
   "version": "2.7.10"
  }
 },
 "nbformat": 4,
 "nbformat_minor": 0
}
