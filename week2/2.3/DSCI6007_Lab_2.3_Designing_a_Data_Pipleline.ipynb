{
 "cells": [
  {
   "cell_type": "markdown",
   "metadata": {},
   "source": [
    "Lab\n",
    "===\n",
    "Individually\n",
    "------------\n",
    "Consider an app or website you use frequently. \n",
    "1. Think of all the actions you can take on that site/app (*e.g.* create an account, link to something or someone, send currency, etc.) List at least ten. \n",
    "\n",
    "                            AMAZON\n",
    "\n",
    "                            1.create an account\n",
    "                            2.search for an item\n",
    "                            3.view an item\n",
    "                            4.read reviews for an item\n",
    "                            5.add an item to cart\n",
    "                            6.purchase item\n",
    "                            7.rate item\n",
    "                            8.review item\n",
    "                            9.return item\n",
    "                            10.purchase recommended item\n",
    "                            11.sell an item\n",
    "                            12.refund a user \n",
    "                            13.signe up for Prime \n",
    "\n",
    "\n",
    "2. If you were a business analyst at that company, what are some questions you might like to have the answers to (*e.g.* how many individuals visited the site last month, how many people opened an account yesterday, etc.)\n",
    "\n",
    "\n",
    "\n",
    "        1.How many users visit the site a day,a month, a year, on average?\n",
    "        2.How many users have accounts?        \n",
    "        3.How many accounts are being open every week ,month, year?\n",
    "        4.How many accounts are being closed every week, month, year?\n",
    "        5.How many users purchase recommended items?\n",
    "        6.How many recommended items are purchased by each user?\n",
    "        7.How may items does each user purchase in a month, year?\n",
    "        8.How many users rate an item?\n",
    "        \n",
    "        9.How many ratings does each user issue?        \n",
    "        10.How many users review an item?\n",
    "        11.How many reviews does each user issue?       \n",
    "        12.How many users sell items?\n",
    "        13.How many users sell and purchase items?        \n",
    "        14.How many users return an item?\n",
    "        15.How many users refund items a year?\n",
    "        16.Where do users live?\n",
    "\n",
    "\n",
    "In Pairs\n",
    "------------\n",
    "Pick one of the two sites/apps and do the following:\n",
    "1. Identify the raw, immutable, and atomic \"facts\" that you might like to capture for such a system. (*e.g.* Susan was born April 3, 1982. John lives in San Francisco, CA. April sent \\$120 to Lucy on August 24, 2015.)\n",
    "\n",
    "\n",
    "1.User name\n",
    "2.User home address within a time range (city, state, country)\n",
    "3.User ethnicity\n",
    "4.User date of birth\n",
    "\n",
    "\n",
    "2. Describe a (normalized) relational data model for this business that answers the questions posed in the first section and also allows the most flexibility for asking new questions. \n"
   ]
  },
  {
   "cell_type": "code",
   "execution_count": null,
   "metadata": {
    "collapsed": true
   },
   "outputs": [],
   "source": []
  }
 ],
 "metadata": {
  "kernelspec": {
   "display_name": "Python 2",
   "language": "python",
   "name": "python2"
  },
  "language_info": {
   "codemirror_mode": {
    "name": "ipython",
    "version": 2
   },
   "file_extension": ".py",
   "mimetype": "text/x-python",
   "name": "python",
   "nbconvert_exporter": "python",
   "pygments_lexer": "ipython2",
   "version": "2.7.10"
  }
 },
 "nbformat": 4,
 "nbformat_minor": 0
}
